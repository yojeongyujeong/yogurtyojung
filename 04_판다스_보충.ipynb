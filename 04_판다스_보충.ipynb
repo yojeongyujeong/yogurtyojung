{
 "cells": [
  {
   "cell_type": "markdown",
   "metadata": {
    "id": "WbJNl-tL8Xf3"
   },
   "source": [
    "# 판다스(Pandas)"
   ]
  },
  {
   "cell_type": "markdown",
   "metadata": {
    "id": "qG0HL8r38Xf4"
   },
   "source": [
    "# 1. 시리즈(Series)"
   ]
  },
  {
   "cell_type": "markdown",
   "metadata": {
    "id": "fkKWS6Zv8Xf4"
   },
   "source": [
    "## 1) 생성 및 조회"
   ]
  },
  {
   "cell_type": "markdown",
   "metadata": {
    "id": "Comm4oxs8Xf4"
   },
   "source": [
    "<table>\n",
    "    <thead>\n",
    "        <tr>\n",
    "            <th>이름</th><th>나이</th><th>키</th>\n",
    "        </tr>\n",
    "    </thead>\n",
    "    <tbody>\n",
    "        <tr><td>김영철</td><td>24</td><td>179.4</td></tr>\n",
    "        <tr><td>송윤지</td><td>31</td><td>161.0</td></tr>\n",
    "        <tr><td>임수현</td><td>26</td><td>174</td></tr>\n",
    "    </tbody>\n",
    "</table>"
   ]
  },
  {
   "cell_type": "markdown",
   "metadata": {
    "id": "gS4PJYZR8Xf5"
   },
   "source": [
    "### (1) 데이터만 생성"
   ]
  },
  {
   "cell_type": "code",
   "execution_count": null,
   "metadata": {},
   "outputs": [],
   "source": [
    "# sk"
   ]
  },
  {
   "cell_type": "markdown",
   "metadata": {
    "id": "5SflO08y8Xf5"
   },
   "source": [
    "### (2) 인덱스와 함께 생성"
   ]
  },
  {
   "cell_type": "markdown",
   "metadata": {
    "id": "LndJgPDA8Xf5"
   },
   "source": [
    "## 2) 연산"
   ]
  },
  {
   "cell_type": "markdown",
   "metadata": {
    "id": "U-8sNHnl8Xf5"
   },
   "source": [
    "## 3) 결측치"
   ]
  },
  {
   "cell_type": "markdown",
   "metadata": {
    "id": "EhucuxMT8Xf5"
   },
   "source": [
    "### (1) 결측치 발생"
   ]
  },
  {
   "cell_type": "markdown",
   "metadata": {
    "id": "VpdubDGi8Xf5"
   },
   "source": [
    "예제\n",
    "* 데이터가 10, 20, 30인 시리즈 생성, 인덱스는 부산, 울산, 대구으로 설정\n",
    "* 데이터가 1, 2, 3, 4인 시리즈 생성, 인덱스는 광주, 부산, 울산, 대구으로 설정\n",
    "* 데이터의 덧셈"
   ]
  },
  {
   "cell_type": "markdown",
   "metadata": {
    "id": "46lSPpRC8Xf6"
   },
   "source": [
    "### (2) 결측치 파악"
   ]
  },
  {
   "cell_type": "markdown",
   "metadata": {
    "id": "fXjlDbCl8Xf6"
   },
   "source": [
    "### (3) 결측치 채우기"
   ]
  },
  {
   "cell_type": "markdown",
   "metadata": {
    "id": "-EcKE67e8Xf6"
   },
   "source": [
    "### (4) 결측치 삭제"
   ]
  },
  {
   "cell_type": "markdown",
   "metadata": {
    "id": "Pfu-dNL18Xf6"
   },
   "source": [
    "## 4) 통계"
   ]
  },
  {
   "cell_type": "markdown",
   "metadata": {
    "id": "-Wqmj99x8Xf6"
   },
   "source": [
    "예제. 문자 데이터\n",
    "\n",
    "```\n",
    "['HR', 'Engineering', 'HR', 'Engineering', 'HR', 'Marketing', 'Engineering', 'Marketing', 'HR']\n",
    "```"
   ]
  },
  {
   "cell_type": "markdown",
   "metadata": {
    "id": "Pc11Tqrr8Xf6"
   },
   "source": [
    "# 2. 데이터프레임(DataFrame)"
   ]
  },
  {
   "cell_type": "markdown",
   "metadata": {
    "id": "E_CcUXyU8Xf6"
   },
   "source": [
    "## 1) 생성"
   ]
  },
  {
   "cell_type": "markdown",
   "metadata": {
    "id": "SYaWlrn68Xf6"
   },
   "source": [
    "<table>\n",
    "    <thead>\n",
    "        <tr>\n",
    "            <th>이름</th><th>성별</th><th>나이</th><th>키</th>\n",
    "        </tr>\n",
    "    </thead>\n",
    "    <tbody>\n",
    "        <tr><td>김영철</td><th>M</th><td>24</td><td>179.4</td></tr>\n",
    "        <tr><td>송윤지</td><th>F</th><td>31</td><td>161.0</td></tr>\n",
    "        <tr><td>임수현</td><th>F</th><td>26</td><td>174</td></tr>\n",
    "    </tbody>\n",
    "</table>"
   ]
  },
  {
   "cell_type": "markdown",
   "metadata": {
    "id": "Yv-y8lY68Xf6"
   },
   "source": [
    "## 2) 조회"
   ]
  },
  {
   "cell_type": "markdown",
   "metadata": {
    "id": "xJgp-Mwv8Xf6"
   },
   "source": [
    "### (1) 이름으로 조회"
   ]
  },
  {
   "cell_type": "markdown",
   "metadata": {
    "id": "QxhHRQ-A8Xf6"
   },
   "source": [
    "#### 열 조회"
   ]
  },
  {
   "cell_type": "markdown",
   "metadata": {
    "id": "ge17gMqh8Xf6"
   },
   "source": [
    "#### 행 조회"
   ]
  },
  {
   "cell_type": "markdown",
   "metadata": {
    "id": "QCWBrszr8Xf7"
   },
   "source": [
    "#### 셀 조회"
   ]
  },
  {
   "cell_type": "markdown",
   "metadata": {
    "id": "b4dzn3df8Xf7"
   },
   "source": [
    "### (2) 인덱스로 조회"
   ]
  },
  {
   "cell_type": "markdown",
   "metadata": {
    "id": "omHWnnNH8Xf7"
   },
   "source": [
    "#### 열 조회"
   ]
  },
  {
   "cell_type": "markdown",
   "metadata": {
    "id": "nhlPV3Li8Xf7"
   },
   "source": [
    "#### 행 조회"
   ]
  },
  {
   "cell_type": "markdown",
   "metadata": {
    "id": "IDi1hnNW8Xf7"
   },
   "source": [
    "#### 셀 조회"
   ]
  },
  {
   "cell_type": "markdown",
   "metadata": {
    "id": "bW1tDwk78Xf7"
   },
   "source": [
    "### (3) 조건부 조회"
   ]
  },
  {
   "cell_type": "markdown",
   "metadata": {
    "id": "YFBS4Y6I8Xf7"
   },
   "source": [
    "## 3) 편집"
   ]
  },
  {
   "cell_type": "markdown",
   "metadata": {
    "id": "x3DnO1DJ8Xf7"
   },
   "source": [
    "### (1) 인덱스 제거"
   ]
  },
  {
   "cell_type": "markdown",
   "metadata": {
    "id": "BMGNY3wS8Xf7"
   },
   "source": [
    "### (2) 데이터 병합"
   ]
  },
  {
   "cell_type": "markdown",
   "metadata": {
    "id": "s3yaMXnF8Xf7"
   },
   "source": [
    "### (3) 결측치 처리"
   ]
  },
  {
   "cell_type": "markdown",
   "metadata": {
    "id": "EoDxFYRo8Xf7"
   },
   "source": [
    "## 4) 통계"
   ]
  },
  {
   "cell_type": "markdown",
   "metadata": {
    "id": "XmKWtnxw8Xf7"
   },
   "source": [
    "# 3. 실습"
   ]
  },
  {
   "cell_type": "markdown",
   "metadata": {
    "id": "ppRPFTzj8Xf7"
   },
   "source": [
    "## 예제 1."
   ]
  },
  {
   "cell_type": "markdown",
   "metadata": {
    "id": "1aQ81IgO8Xf7"
   },
   "source": [
    "## 예제 2."
   ]
  },
  {
   "cell_type": "markdown",
   "metadata": {
    "id": "zAeCK6EL8Xf7"
   },
   "source": [
    "## 예제 3. 자동차 회사의연비 데이터"
   ]
  },
  {
   "cell_type": "markdown",
   "metadata": {
    "id": "B6AoMUTx8Xf7"
   },
   "source": [
    "* manufacturer : 회사명\n",
    "* cty : 도심연비\n",
    "* hwy : 고속도로 연비"
   ]
  },
  {
   "cell_type": "markdown",
   "metadata": {
    "id": "_QAyGT8w8Xf7"
   },
   "source": [
    "## 데이터 불러오기"
   ]
  },
  {
   "cell_type": "markdown",
   "metadata": {
    "id": "H-GeQq7R8Xf-"
   },
   "source": [
    "## 데이터 파악하기"
   ]
  },
  {
   "cell_type": "markdown",
   "metadata": {
    "id": "Mf6S0-Ci8Xf-"
   },
   "source": [
    "## Q1. 몇 개의 회사 데이터가 있나요?"
   ]
  },
  {
   "cell_type": "markdown",
   "metadata": {
    "id": "ssdcIqYW8Xf-"
   },
   "source": [
    "## Q2. 회사별로 참여한 자동차가 몇 대인지 파악하세요."
   ]
  },
  {
   "cell_type": "markdown",
   "metadata": {
    "id": "C873IbLV8Xf-"
   },
   "source": [
    "## Q3. 도심연비와 고속도로 연비를 평균낸 total 연비를 구하세요"
   ]
  },
  {
   "cell_type": "markdown",
   "metadata": {
    "id": "Sx6SAMx58Xf-"
   },
   "source": [
    "## Q4. total 연비 상위 10개 회사의 회사별 개수를 구하세요"
   ]
  },
  {
   "cell_type": "markdown",
   "metadata": {
    "id": "nhjdxHWu8Xf-"
   },
   "source": [
    "## +Quiz. 현대자동차의 평균 total 연비에 대한 평균값은?"
   ]
  },
  {
   "cell_type": "markdown",
   "metadata": {
    "id": "TF2vFfnJ8Xf_"
   },
   "source": [
    "## Q5. 평균 total 연비보다 높은 자동차는 PASS, 낮은 자동차는 FAIL로 구분하세요."
   ]
  },
  {
   "cell_type": "markdown",
   "metadata": {
    "id": "GLXhyVE58Xf_"
   },
   "source": [
    "## +Quiz. PASS인 자동차 중 가장 많은 숫자의 자동차 회사는?"
   ]
  }
 ],
 "metadata": {
  "colab": {
   "provenance": []
  },
  "kernelspec": {
   "display_name": "Python 3",
   "language": "python",
   "name": "python3"
  },
  "language_info": {
   "codemirror_mode": {
    "name": "ipython",
    "version": 3
   },
   "file_extension": ".py",
   "mimetype": "text/x-python",
   "name": "python",
   "nbconvert_exporter": "python",
   "pygments_lexer": "ipython3",
   "version": "3.9.21"
  }
 },
 "nbformat": 4,
 "nbformat_minor": 0
}
