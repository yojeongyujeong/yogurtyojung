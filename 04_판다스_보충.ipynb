{
 "cells": [
  {
   "cell_type": "markdown",
   "metadata": {
    "id": "WbJNl-tL8Xf3"
   },
   "source": [
    "# 판다스(Pandas)"
   ]
  },
  {
   "cell_type": "markdown",
   "metadata": {
    "id": "qG0HL8r38Xf4"
   },
   "source": [
    "# 1. 시리즈(Series)"
   ]
  },
  {
   "cell_type": "markdown",
   "metadata": {
    "id": "fkKWS6Zv8Xf4"
   },
   "source": [
    "## 1) 생성 및 조회"
   ]
  },
  {
   "cell_type": "markdown",
   "metadata": {
    "id": "Comm4oxs8Xf4"
   },
   "source": [
    "<table>\n",
    "    <thead>\n",
    "        <tr>\n",
    "            <th>이름</th><th>나이</th><th>키</th>\n",
    "        </tr>\n",
    "    </thead>\n",
    "    <tbody>\n",
    "        <tr><td>김영철</td><td>24</td><td>179.4</td></tr>\n",
    "        <tr><td>송윤지</td><td>31</td><td>161.0</td></tr>\n",
    "        <tr><td>임수현</td><td>26</td><td>174</td></tr>\n",
    "    </tbody>\n",
    "</table>"
   ]
  },
  {
   "cell_type": "code",
   "execution_count": 536,
   "metadata": {},
   "outputs": [],
   "source": [
    "import pandas as pd"
   ]
  },
  {
   "cell_type": "markdown",
   "metadata": {
    "id": "gS4PJYZR8Xf5"
   },
   "source": [
    "### (1) 데이터만 생성"
   ]
  },
  {
   "cell_type": "code",
   "execution_count": 537,
   "metadata": {},
   "outputs": [
    {
     "data": {
      "text/plain": [
       "0    24\n",
       "1    31\n",
       "2    26\n",
       "dtype: int64"
      ]
     },
     "execution_count": 537,
     "metadata": {},
     "output_type": "execute_result"
    }
   ],
   "source": [
    "# 나이 데이터를 시리즈로 생성\n",
    "age_list = [24, 31, 26]\n",
    "age_series = pd.Series(age_list)\n",
    "age_series"
   ]
  },
  {
   "cell_type": "code",
   "execution_count": 538,
   "metadata": {},
   "outputs": [
    {
     "data": {
      "text/plain": [
       "dtype('int64')"
      ]
     },
     "execution_count": 538,
     "metadata": {},
     "output_type": "execute_result"
    }
   ],
   "source": [
    "age_series.dtype"
   ]
  },
  {
   "cell_type": "markdown",
   "metadata": {
    "id": "5SflO08y8Xf5"
   },
   "source": [
    "### (2) 인덱스와 함께 생성"
   ]
  },
  {
   "cell_type": "code",
   "execution_count": 539,
   "metadata": {},
   "outputs": [
    {
     "data": {
      "text/plain": [
       "김영철    24\n",
       "송윤지    31\n",
       "임수현    26\n",
       "dtype: int64"
      ]
     },
     "execution_count": 539,
     "metadata": {},
     "output_type": "execute_result"
    }
   ],
   "source": [
    "age_series.index = [\"김영철\", \"송윤지\", \"임수현\"]\n",
    "age_series"
   ]
  },
  {
   "cell_type": "code",
   "execution_count": 540,
   "metadata": {},
   "outputs": [
    {
     "data": {
      "text/plain": [
       "np.int64(31)"
      ]
     },
     "execution_count": 540,
     "metadata": {},
     "output_type": "execute_result"
    }
   ],
   "source": [
    "# 송윤지의 나이는?\n",
    "age_series[\"송윤지\"]"
   ]
  },
  {
   "cell_type": "markdown",
   "metadata": {
    "id": "LndJgPDA8Xf5"
   },
   "source": [
    "## 2) 연산"
   ]
  },
  {
   "cell_type": "code",
   "execution_count": 541,
   "metadata": {},
   "outputs": [
    {
     "name": "stdout",
     "output_type": "stream",
     "text": [
      "0    11\n",
      "1    22\n",
      "2    33\n",
      "dtype: int64\n",
      "===================================\n",
      "0     9\n",
      "1    18\n",
      "2    27\n",
      "dtype: int64\n",
      "===================================\n",
      "0    10\n",
      "1    40\n",
      "2    90\n",
      "dtype: int64\n",
      "===================================\n",
      "0    10.0\n",
      "1    10.0\n",
      "2    10.0\n",
      "dtype: float64\n",
      "===================================\n",
      "0    10\n",
      "1    10\n",
      "2    10\n",
      "dtype: int64\n"
     ]
    }
   ],
   "source": [
    "data1 = pd.Series(data = [10, 20, 30])\n",
    "data2 = pd.Series(data = [1, 2, 3])\n",
    "\n",
    "print(data1 + data2)\n",
    "print(\"=\"*35)\n",
    "print(data1 - data2)\n",
    "print(\"=\"*35)\n",
    "print(data1 * data2)\n",
    "print(\"=\"*35)\n",
    "print(data1 / data2)\n",
    "print(\"=\"*35)\n",
    "print(data1 // data2)"
   ]
  },
  {
   "cell_type": "markdown",
   "metadata": {
    "id": "U-8sNHnl8Xf5"
   },
   "source": [
    "## 3) 결측치"
   ]
  },
  {
   "cell_type": "markdown",
   "metadata": {
    "id": "EhucuxMT8Xf5"
   },
   "source": [
    "### (1) 결측치 발생"
   ]
  },
  {
   "cell_type": "code",
   "execution_count": 542,
   "metadata": {},
   "outputs": [
    {
     "data": {
      "text/plain": [
       "0    1.0\n",
       "1    NaN\n",
       "dtype: float64"
      ]
     },
     "execution_count": 542,
     "metadata": {},
     "output_type": "execute_result"
    }
   ],
   "source": [
    "import numpy as np\n",
    "import pandas as pd\n",
    "\n",
    "myseries = pd.Series([1, np.nan])\n",
    "myseries "
   ]
  },
  {
   "cell_type": "code",
   "execution_count": 543,
   "metadata": {},
   "outputs": [
    {
     "data": {
      "text/plain": [
       "0    11.0\n",
       "1    22.0\n",
       "2    33.0\n",
       "3     NaN\n",
       "dtype: float64"
      ]
     },
     "execution_count": 543,
     "metadata": {},
     "output_type": "execute_result"
    }
   ],
   "source": [
    "data1 = pd.Series(data = [10, 20, 30])\n",
    "data2 = pd.Series(data = [1, 2, 3, 4])\n",
    "\n",
    "data1 + data2\n",
    "\n",
    "# 같은 위치에 있는 자리끼리 연산, 즉 같은 인덱스끼리 연산"
   ]
  },
  {
   "cell_type": "markdown",
   "metadata": {
    "id": "VpdubDGi8Xf5"
   },
   "source": [
    "예제\n",
    "* 데이터가 10, 20, 30인 시리즈 생성, 인덱스는 부산, 울산, 대구으로 설정\n",
    "* 데이터가 1, 2, 3, 4인 시리즈 생성, 인덱스는 광주, 부산, 울산, 대구으로 설정\n",
    "* 데이터의 덧셈"
   ]
  },
  {
   "cell_type": "code",
   "execution_count": 544,
   "metadata": {},
   "outputs": [
    {
     "name": "stdout",
     "output_type": "stream",
     "text": [
      "부산    10\n",
      "울산    20\n",
      "대구    30\n",
      "dtype: int64\n",
      "========================================\n",
      "광주    1\n",
      "부산    2\n",
      "울산    3\n",
      "대구    4\n",
      "dtype: int64\n"
     ]
    },
    {
     "data": {
      "text/plain": [
       "광주     NaN\n",
       "대구    34.0\n",
       "부산    12.0\n",
       "울산    23.0\n",
       "dtype: float64"
      ]
     },
     "execution_count": 544,
     "metadata": {},
     "output_type": "execute_result"
    }
   ],
   "source": [
    "data1 = pd.Series(\n",
    "    data=[10, 20, 30],\n",
    "    index=[\"부산\", \"울산\", \"대구\"]\n",
    ")\n",
    "data2 = pd.Series(\n",
    "    data=[1, 2, 3, 4],\n",
    "    index=[\"광주\", \"부산\", \"울산\", \"대구\"]\n",
    ")\n",
    "print(data1)\n",
    "print(\"=\"*40)\n",
    "print(data2)\n",
    "\n",
    "data3 = data1 + data2\n",
    "data3"
   ]
  },
  {
   "cell_type": "code",
   "execution_count": 545,
   "metadata": {},
   "outputs": [
    {
     "name": "stdout",
     "output_type": "stream",
     "text": [
      "부산    10\n",
      "울산    20\n",
      "대구    30\n",
      "dtype: int64\n",
      "========================================\n",
      "광주    1\n",
      "부산    2\n",
      "울산    3\n",
      "대구    4\n",
      "dtype: int64\n",
      "========================================\n",
      "광주     NaN\n",
      "대구    34.0\n",
      "부산    12.0\n",
      "울산    23.0\n",
      "dtype: float64\n"
     ]
    }
   ],
   "source": [
    "data1 = pd.Series([10, 20, 30])\n",
    "data1.index = [\"부산\", \"울산\", \"대구\"]\n",
    "print(data1)\n",
    "print(\"=\"*40)\n",
    "data2 = pd.Series([1, 2, 3, 4])\n",
    "data2.index = [\"광주\", \"부산\", \"울산\", \"대구\"]\n",
    "print(data2)\n",
    "print(\"=\"*40)\n",
    "print(data1+data2)"
   ]
  },
  {
   "cell_type": "markdown",
   "metadata": {
    "id": "46lSPpRC8Xf6"
   },
   "source": [
    "### (2) 결측치 파악"
   ]
  },
  {
   "cell_type": "code",
   "execution_count": 546,
   "metadata": {},
   "outputs": [
    {
     "data": {
      "text/plain": [
       "광주     NaN\n",
       "대구    34.0\n",
       "부산    12.0\n",
       "울산    23.0\n",
       "dtype: float64"
      ]
     },
     "execution_count": 546,
     "metadata": {},
     "output_type": "execute_result"
    }
   ],
   "source": [
    "data3"
   ]
  },
  {
   "cell_type": "code",
   "execution_count": 547,
   "metadata": {},
   "outputs": [
    {
     "data": {
      "text/plain": [
       "광주     True\n",
       "대구    False\n",
       "부산    False\n",
       "울산    False\n",
       "dtype: bool"
      ]
     },
     "execution_count": 547,
     "metadata": {},
     "output_type": "execute_result"
    }
   ],
   "source": [
    "# 결측치인지 아닌지 확인\n",
    "data3.isna()"
   ]
  },
  {
   "cell_type": "code",
   "execution_count": 548,
   "metadata": {},
   "outputs": [
    {
     "data": {
      "text/plain": [
       "np.int64(1)"
      ]
     },
     "execution_count": 548,
     "metadata": {},
     "output_type": "execute_result"
    }
   ],
   "source": [
    "# 결측치의 개수\n",
    "data3.isna().sum()"
   ]
  },
  {
   "cell_type": "markdown",
   "metadata": {
    "id": "fXjlDbCl8Xf6"
   },
   "source": [
    "### (3) 결측치 채우기"
   ]
  },
  {
   "cell_type": "code",
   "execution_count": 549,
   "metadata": {},
   "outputs": [
    {
     "data": {
      "text/plain": [
       "광주    999.0\n",
       "대구     34.0\n",
       "부산     12.0\n",
       "울산     23.0\n",
       "dtype: float64"
      ]
     },
     "execution_count": 549,
     "metadata": {},
     "output_type": "execute_result"
    }
   ],
   "source": [
    "data3.fillna(999)"
   ]
  },
  {
   "cell_type": "markdown",
   "metadata": {
    "id": "-EcKE67e8Xf6"
   },
   "source": [
    "### (4) 결측치 삭제"
   ]
  },
  {
   "cell_type": "code",
   "execution_count": 550,
   "metadata": {},
   "outputs": [
    {
     "data": {
      "text/plain": [
       "대구    34.0\n",
       "부산    12.0\n",
       "울산    23.0\n",
       "dtype: float64"
      ]
     },
     "execution_count": 550,
     "metadata": {},
     "output_type": "execute_result"
    }
   ],
   "source": [
    "data3.dropna()"
   ]
  },
  {
   "cell_type": "markdown",
   "metadata": {
    "id": "Pfu-dNL18Xf6"
   },
   "source": [
    "## 4) 통계"
   ]
  },
  {
   "cell_type": "code",
   "execution_count": 551,
   "metadata": {},
   "outputs": [
    {
     "data": {
      "text/plain": [
       "부산    10\n",
       "울산    30\n",
       "대구    20\n",
       "dtype: int64"
      ]
     },
     "execution_count": 551,
     "metadata": {},
     "output_type": "execute_result"
    }
   ],
   "source": [
    "data = pd.Series(\n",
    "    data=[10, 30, 20],\n",
    "    index=[\"부산\", \"울산\", \"대구\"]\n",
    ")\n",
    "data"
   ]
  },
  {
   "cell_type": "code",
   "execution_count": 552,
   "metadata": {},
   "outputs": [
    {
     "name": "stdout",
     "output_type": "stream",
     "text": [
      "60\n",
      "10\n",
      "30\n",
      "20.0\n",
      "100.0\n",
      "10.0\n"
     ]
    }
   ],
   "source": [
    "print(data.sum())\n",
    "print(data.min())\n",
    "print(data.max())\n",
    "print(data.mean())\n",
    "print(data.var()) #분산 : (데이터 - 평균)^2 / 전체 데이터 개수\n",
    "print(data.std()) #표준편차 : 루트(분산)"
   ]
  },
  {
   "cell_type": "code",
   "execution_count": 553,
   "metadata": {},
   "outputs": [
    {
     "data": {
      "text/plain": [
       "count     3.0\n",
       "mean     20.0\n",
       "std      10.0\n",
       "min      10.0\n",
       "25%      15.0\n",
       "50%      20.0\n",
       "75%      25.0\n",
       "max      30.0\n",
       "dtype: float64"
      ]
     },
     "execution_count": 553,
     "metadata": {},
     "output_type": "execute_result"
    }
   ],
   "source": [
    "data.describe()"
   ]
  },
  {
   "cell_type": "markdown",
   "metadata": {
    "id": "-Wqmj99x8Xf6"
   },
   "source": [
    "예제. 문자 데이터\n",
    "\n",
    "```\n",
    "['HR', 'Engineering', 'HR', 'Engineering', 'HR', 'Marketing', 'Engineering', 'Marketing', 'HR']\n",
    "```"
   ]
  },
  {
   "cell_type": "code",
   "execution_count": 554,
   "metadata": {},
   "outputs": [
    {
     "name": "stdout",
     "output_type": "stream",
     "text": [
      "0             HR\n",
      "1    Engineering\n",
      "2             HR\n",
      "3    Engineering\n",
      "4             HR\n",
      "5      Marketing\n",
      "6    Engineering\n",
      "7      Marketing\n",
      "8             HR\n",
      "dtype: object\n"
     ]
    },
    {
     "data": {
      "text/plain": [
       "count      9\n",
       "unique     3\n",
       "top       HR\n",
       "freq       4\n",
       "dtype: object"
      ]
     },
     "execution_count": 554,
     "metadata": {},
     "output_type": "execute_result"
    }
   ],
   "source": [
    "dep_data = pd.Series(\n",
    "    data = ['HR', 'Engineering', 'HR', 'Engineering', 'HR', 'Marketing', 'Engineering', 'Marketing', 'HR']\n",
    ")\n",
    "\n",
    "print(dep_data)\n",
    "\n",
    "dep_data.describe()\n",
    "\n",
    "# 범주형 데이터 : "
   ]
  },
  {
   "cell_type": "markdown",
   "metadata": {
    "id": "Pc11Tqrr8Xf6"
   },
   "source": [
    "# 2. 데이터프레임(DataFrame)"
   ]
  },
  {
   "cell_type": "markdown",
   "metadata": {
    "id": "E_CcUXyU8Xf6"
   },
   "source": [
    "## 1) 생성"
   ]
  },
  {
   "cell_type": "markdown",
   "metadata": {
    "id": "SYaWlrn68Xf6"
   },
   "source": [
    "<table>\n",
    "    <thead>\n",
    "        <tr>\n",
    "            <th>이름</th><th>성별</th><th>나이</th><th>키</th>\n",
    "        </tr>\n",
    "    </thead>\n",
    "    <tbody>\n",
    "        <tr><td>김영철</td><th>M</th><td>24</td><td>179.4</td></tr>\n",
    "        <tr><td>송윤지</td><th>F</th><td>31</td><td>161.0</td></tr>\n",
    "        <tr><td>임수현</td><th>F</th><td>26</td><td>174</td></tr>\n",
    "    </tbody>\n",
    "</table>"
   ]
  },
  {
   "cell_type": "code",
   "execution_count": 555,
   "metadata": {},
   "outputs": [
    {
     "data": {
      "text/html": [
       "<div>\n",
       "<style scoped>\n",
       "    .dataframe tbody tr th:only-of-type {\n",
       "        vertical-align: middle;\n",
       "    }\n",
       "\n",
       "    .dataframe tbody tr th {\n",
       "        vertical-align: top;\n",
       "    }\n",
       "\n",
       "    .dataframe thead th {\n",
       "        text-align: right;\n",
       "    }\n",
       "</style>\n",
       "<table border=\"1\" class=\"dataframe\">\n",
       "  <thead>\n",
       "    <tr style=\"text-align: right;\">\n",
       "      <th></th>\n",
       "      <th>이름</th>\n",
       "      <th>성별</th>\n",
       "      <th>나이</th>\n",
       "      <th>키</th>\n",
       "    </tr>\n",
       "  </thead>\n",
       "  <tbody>\n",
       "    <tr>\n",
       "      <th>0</th>\n",
       "      <td>김영철</td>\n",
       "      <td>M</td>\n",
       "      <td>24</td>\n",
       "      <td>179.4</td>\n",
       "    </tr>\n",
       "    <tr>\n",
       "      <th>1</th>\n",
       "      <td>송윤지</td>\n",
       "      <td>F</td>\n",
       "      <td>31</td>\n",
       "      <td>161.0</td>\n",
       "    </tr>\n",
       "    <tr>\n",
       "      <th>2</th>\n",
       "      <td>임수현</td>\n",
       "      <td>F</td>\n",
       "      <td>26</td>\n",
       "      <td>174.0</td>\n",
       "    </tr>\n",
       "  </tbody>\n",
       "</table>\n",
       "</div>"
      ],
      "text/plain": [
       "    이름 성별  나이      키\n",
       "0  김영철  M  24  179.4\n",
       "1  송윤지  F  31  161.0\n",
       "2  임수현  F  26  174.0"
      ]
     },
     "execution_count": 555,
     "metadata": {},
     "output_type": "execute_result"
    }
   ],
   "source": [
    "# 2차원 리스트를 이용\n",
    "import pandas as pd\n",
    "\n",
    "data_list = [\n",
    "    [\"김영철\", \"M\", 24, 179.4],\n",
    "    [\"송윤지\", \"F\", 31, 161.0],\n",
    "    [\"임수현\", \"F\", 26, 174]\n",
    "]\n",
    "\n",
    "data1 = pd.DataFrame(data_list, columns=[\"이름\", \"성별\", \"나이\", \"키\"])\n",
    "data1"
   ]
  },
  {
   "cell_type": "code",
   "execution_count": 556,
   "metadata": {},
   "outputs": [
    {
     "data": {
      "text/html": [
       "<div>\n",
       "<style scoped>\n",
       "    .dataframe tbody tr th:only-of-type {\n",
       "        vertical-align: middle;\n",
       "    }\n",
       "\n",
       "    .dataframe tbody tr th {\n",
       "        vertical-align: top;\n",
       "    }\n",
       "\n",
       "    .dataframe thead th {\n",
       "        text-align: right;\n",
       "    }\n",
       "</style>\n",
       "<table border=\"1\" class=\"dataframe\">\n",
       "  <thead>\n",
       "    <tr style=\"text-align: right;\">\n",
       "      <th></th>\n",
       "      <th>이름</th>\n",
       "      <th>성별</th>\n",
       "      <th>나이</th>\n",
       "      <th>키</th>\n",
       "    </tr>\n",
       "  </thead>\n",
       "  <tbody>\n",
       "    <tr>\n",
       "      <th>0</th>\n",
       "      <td>김영철</td>\n",
       "      <td>M</td>\n",
       "      <td>24</td>\n",
       "      <td>179.4</td>\n",
       "    </tr>\n",
       "    <tr>\n",
       "      <th>1</th>\n",
       "      <td>송윤지</td>\n",
       "      <td>F</td>\n",
       "      <td>31</td>\n",
       "      <td>161.0</td>\n",
       "    </tr>\n",
       "    <tr>\n",
       "      <th>2</th>\n",
       "      <td>임수현</td>\n",
       "      <td>F</td>\n",
       "      <td>26</td>\n",
       "      <td>174.0</td>\n",
       "    </tr>\n",
       "  </tbody>\n",
       "</table>\n",
       "</div>"
      ],
      "text/plain": [
       "    이름 성별  나이      키\n",
       "0  김영철  M  24  179.4\n",
       "1  송윤지  F  31  161.0\n",
       "2  임수현  F  26  174.0"
      ]
     },
     "execution_count": 556,
     "metadata": {},
     "output_type": "execute_result"
    }
   ],
   "source": [
    "# 열 딕셔너리 이용\n",
    "data_col_dict = {\n",
    "    \"이름\": [\"김영철\", \"송윤지\", \"임수현\"],\n",
    "    \"성별\": [\"M\", \"F\", \"F\"],\n",
    "    \"나이\": [24, 31, 26],\n",
    "    \"키\": [179.4, 161.0, 174]\n",
    "}\n",
    "data2 = pd.DataFrame(data_col_dict)\n",
    "data2"
   ]
  },
  {
   "cell_type": "code",
   "execution_count": 557,
   "metadata": {},
   "outputs": [
    {
     "data": {
      "text/html": [
       "<div>\n",
       "<style scoped>\n",
       "    .dataframe tbody tr th:only-of-type {\n",
       "        vertical-align: middle;\n",
       "    }\n",
       "\n",
       "    .dataframe tbody tr th {\n",
       "        vertical-align: top;\n",
       "    }\n",
       "\n",
       "    .dataframe thead th {\n",
       "        text-align: right;\n",
       "    }\n",
       "</style>\n",
       "<table border=\"1\" class=\"dataframe\">\n",
       "  <thead>\n",
       "    <tr style=\"text-align: right;\">\n",
       "      <th></th>\n",
       "      <th>이름</th>\n",
       "      <th>성별</th>\n",
       "      <th>나이</th>\n",
       "      <th>키</th>\n",
       "    </tr>\n",
       "  </thead>\n",
       "  <tbody>\n",
       "    <tr>\n",
       "      <th>0</th>\n",
       "      <td>김영철</td>\n",
       "      <td>M</td>\n",
       "      <td>24</td>\n",
       "      <td>179.4</td>\n",
       "    </tr>\n",
       "    <tr>\n",
       "      <th>1</th>\n",
       "      <td>송윤지</td>\n",
       "      <td>F</td>\n",
       "      <td>31</td>\n",
       "      <td>161.0</td>\n",
       "    </tr>\n",
       "    <tr>\n",
       "      <th>2</th>\n",
       "      <td>임수현</td>\n",
       "      <td>F</td>\n",
       "      <td>26</td>\n",
       "      <td>174.0</td>\n",
       "    </tr>\n",
       "  </tbody>\n",
       "</table>\n",
       "</div>"
      ],
      "text/plain": [
       "    이름 성별  나이      키\n",
       "0  김영철  M  24  179.4\n",
       "1  송윤지  F  31  161.0\n",
       "2  임수현  F  26  174.0"
      ]
     },
     "execution_count": 557,
     "metadata": {},
     "output_type": "execute_result"
    }
   ],
   "source": [
    "# 행 딕셔너리 이용\n",
    "data_row_dict = [\n",
    "    {\"이름\": \"김영철\", \"성별\": \"M\", \"나이\": 24, \"키\":179.4},\n",
    "    {\"이름\": \"송윤지\", \"성별\": \"F\", \"나이\": 31, \"키\":161.0},\n",
    "    {\"이름\": \"임수현\", \"성별\": \"F\", \"나이\": 26, \"키\":174},\n",
    "]\n",
    "\n",
    "data3 = pd.DataFrame(data_row_dict)\n",
    "data3"
   ]
  },
  {
   "cell_type": "markdown",
   "metadata": {
    "id": "Yv-y8lY68Xf6"
   },
   "source": [
    "## 2) 조회"
   ]
  },
  {
   "cell_type": "code",
   "execution_count": 558,
   "metadata": {},
   "outputs": [
    {
     "data": {
      "text/html": [
       "<div>\n",
       "<style scoped>\n",
       "    .dataframe tbody tr th:only-of-type {\n",
       "        vertical-align: middle;\n",
       "    }\n",
       "\n",
       "    .dataframe tbody tr th {\n",
       "        vertical-align: top;\n",
       "    }\n",
       "\n",
       "    .dataframe thead th {\n",
       "        text-align: right;\n",
       "    }\n",
       "</style>\n",
       "<table border=\"1\" class=\"dataframe\">\n",
       "  <thead>\n",
       "    <tr style=\"text-align: right;\">\n",
       "      <th></th>\n",
       "      <th>이름</th>\n",
       "      <th>나이</th>\n",
       "      <th>성별</th>\n",
       "      <th>지역</th>\n",
       "      <th>전공</th>\n",
       "      <th>키(cm)</th>\n",
       "      <th>몸무게(kg)</th>\n",
       "      <th>운동횟수</th>\n",
       "      <th>음주 여부</th>\n",
       "      <th>출석률(%)</th>\n",
       "    </tr>\n",
       "  </thead>\n",
       "  <tbody>\n",
       "    <tr>\n",
       "      <th>0</th>\n",
       "      <td>민지</td>\n",
       "      <td>24</td>\n",
       "      <td>F</td>\n",
       "      <td>서울</td>\n",
       "      <td>심리학</td>\n",
       "      <td>163</td>\n",
       "      <td>54</td>\n",
       "      <td>3</td>\n",
       "      <td>아니오</td>\n",
       "      <td>96.5</td>\n",
       "    </tr>\n",
       "    <tr>\n",
       "      <th>1</th>\n",
       "      <td>지훈</td>\n",
       "      <td>27</td>\n",
       "      <td>M</td>\n",
       "      <td>부산</td>\n",
       "      <td>컴퓨터공학</td>\n",
       "      <td>175</td>\n",
       "      <td>68</td>\n",
       "      <td>1</td>\n",
       "      <td>예</td>\n",
       "      <td>89.2</td>\n",
       "    </tr>\n",
       "    <tr>\n",
       "      <th>2</th>\n",
       "      <td>유진</td>\n",
       "      <td>22</td>\n",
       "      <td>F</td>\n",
       "      <td>대전</td>\n",
       "      <td>디자인</td>\n",
       "      <td>160</td>\n",
       "      <td>48</td>\n",
       "      <td>4</td>\n",
       "      <td>아니오</td>\n",
       "      <td>98.7</td>\n",
       "    </tr>\n",
       "    <tr>\n",
       "      <th>3</th>\n",
       "      <td>수아</td>\n",
       "      <td>26</td>\n",
       "      <td>F</td>\n",
       "      <td>광주</td>\n",
       "      <td>경영학</td>\n",
       "      <td>167</td>\n",
       "      <td>56</td>\n",
       "      <td>2</td>\n",
       "      <td>예</td>\n",
       "      <td>92.0</td>\n",
       "    </tr>\n",
       "    <tr>\n",
       "      <th>4</th>\n",
       "      <td>현우</td>\n",
       "      <td>25</td>\n",
       "      <td>M</td>\n",
       "      <td>인천</td>\n",
       "      <td>통계학</td>\n",
       "      <td>178</td>\n",
       "      <td>73</td>\n",
       "      <td>5</td>\n",
       "      <td>예</td>\n",
       "      <td>94.8</td>\n",
       "    </tr>\n",
       "  </tbody>\n",
       "</table>\n",
       "</div>"
      ],
      "text/plain": [
       "   이름  나이 성별  지역     전공  키(cm)  몸무게(kg)  운동횟수 음주 여부  출석률(%)\n",
       "0  민지  24  F  서울    심리학    163       54     3   아니오    96.5\n",
       "1  지훈  27  M  부산  컴퓨터공학    175       68     1     예    89.2\n",
       "2  유진  22  F  대전    디자인    160       48     4   아니오    98.7\n",
       "3  수아  26  F  광주    경영학    167       56     2     예    92.0\n",
       "4  현우  25  M  인천    통계학    178       73     5     예    94.8"
      ]
     },
     "execution_count": 558,
     "metadata": {},
     "output_type": "execute_result"
    }
   ],
   "source": [
    "data_list = [\n",
    "  {\n",
    "    \"이름\": \"민지\",\n",
    "    \"나이\": 24,\n",
    "    \"성별\": \"F\",\n",
    "    \"지역\": \"서울\",\n",
    "    \"전공\": \"심리학\",\n",
    "    \"키(cm)\": 163,\n",
    "    \"몸무게(kg)\": 54,\n",
    "    \"운동횟수\": 3,\n",
    "    \"음주 여부\": \"아니오\",\n",
    "    \"출석률(%)\": 96.5\n",
    "  },\n",
    "  {\n",
    "    \"이름\": \"지훈\",\n",
    "    \"나이\": 27,\n",
    "    \"성별\": \"M\",\n",
    "    \"지역\": \"부산\",\n",
    "    \"전공\": \"컴퓨터공학\",\n",
    "    \"키(cm)\": 175,\n",
    "    \"몸무게(kg)\": 68,\n",
    "    \"운동횟수\": 1,\n",
    "    \"음주 여부\": \"예\",\n",
    "    \"출석률(%)\": 89.2\n",
    "  },\n",
    "  {\n",
    "    \"이름\": \"유진\",\n",
    "    \"나이\": 22,\n",
    "    \"성별\": \"F\",\n",
    "    \"지역\": \"대전\",\n",
    "    \"전공\": \"디자인\",\n",
    "    \"키(cm)\": 160,\n",
    "    \"몸무게(kg)\": 48,\n",
    "    \"운동횟수\": 4,\n",
    "    \"음주 여부\": \"아니오\",\n",
    "    \"출석률(%)\": 98.7\n",
    "  },\n",
    "  {\n",
    "    \"이름\": \"수아\",\n",
    "    \"나이\": 26,\n",
    "    \"성별\": \"F\",\n",
    "    \"지역\": \"광주\",\n",
    "    \"전공\": \"경영학\",\n",
    "    \"키(cm)\": 167,\n",
    "    \"몸무게(kg)\": 56,\n",
    "    \"운동횟수\": 2,\n",
    "    \"음주 여부\": \"예\",\n",
    "    \"출석률(%)\": 92.0\n",
    "  },\n",
    "  {\n",
    "    \"이름\": \"현우\",\n",
    "    \"나이\": 25,\n",
    "    \"성별\": \"M\",\n",
    "    \"지역\": \"인천\",\n",
    "    \"전공\": \"통계학\",\n",
    "    \"키(cm)\": 178,\n",
    "    \"몸무게(kg)\": 73,\n",
    "    \"운동횟수\": 5,\n",
    "    \"음주 여부\": \"예\",\n",
    "    \"출석률(%)\": 94.8\n",
    "  }\n",
    "]\n",
    "\n",
    "data = pd.DataFrame(data_list)\n",
    "data"
   ]
  },
  {
   "cell_type": "code",
   "execution_count": 559,
   "metadata": {},
   "outputs": [],
   "source": [
    "# 이름을 인덱스로 설정해주세요. set_index() data2에 저장\n",
    "# data2에서 인덱스를 열로 바꿔주세요.\n",
    "# data에서 이름, 전공 열을 조회해주세요.\n",
    "# data2에서 수아 학생의 데이터를 조회해주세요.\n",
    "# data2에서 지훈, 현우 학생의 데이터를 조회해주세요.\n",
    "# data2에서 유진 학생의 음주 여부를 조회해주세요.\n",
    "# data2에서 민지 학생의 키, 몸무게를 조회해주세요.\n",
    "# data에서 성별이 F인 데이터민 조회해주세요.\n",
    "# data에서 키가 170미만이고 출석률이 90% 이상인 데이터를 조회해주세요.\n",
    "# data에서 나이가 25미만이거나 지역이 부산인 데이터를 조회해주세요.\n",
    "# data에서 출석률을 기준으로 내립차순 정렬해주세요."
   ]
  },
  {
   "cell_type": "code",
   "execution_count": 560,
   "metadata": {},
   "outputs": [
    {
     "data": {
      "text/html": [
       "<div>\n",
       "<style scoped>\n",
       "    .dataframe tbody tr th:only-of-type {\n",
       "        vertical-align: middle;\n",
       "    }\n",
       "\n",
       "    .dataframe tbody tr th {\n",
       "        vertical-align: top;\n",
       "    }\n",
       "\n",
       "    .dataframe thead th {\n",
       "        text-align: right;\n",
       "    }\n",
       "</style>\n",
       "<table border=\"1\" class=\"dataframe\">\n",
       "  <thead>\n",
       "    <tr style=\"text-align: right;\">\n",
       "      <th></th>\n",
       "      <th>나이</th>\n",
       "      <th>성별</th>\n",
       "      <th>지역</th>\n",
       "      <th>전공</th>\n",
       "      <th>키(cm)</th>\n",
       "      <th>몸무게(kg)</th>\n",
       "      <th>운동횟수</th>\n",
       "      <th>음주 여부</th>\n",
       "      <th>출석률(%)</th>\n",
       "    </tr>\n",
       "    <tr>\n",
       "      <th>이름</th>\n",
       "      <th></th>\n",
       "      <th></th>\n",
       "      <th></th>\n",
       "      <th></th>\n",
       "      <th></th>\n",
       "      <th></th>\n",
       "      <th></th>\n",
       "      <th></th>\n",
       "      <th></th>\n",
       "    </tr>\n",
       "  </thead>\n",
       "  <tbody>\n",
       "    <tr>\n",
       "      <th>민지</th>\n",
       "      <td>24</td>\n",
       "      <td>F</td>\n",
       "      <td>서울</td>\n",
       "      <td>심리학</td>\n",
       "      <td>163</td>\n",
       "      <td>54</td>\n",
       "      <td>3</td>\n",
       "      <td>아니오</td>\n",
       "      <td>96.5</td>\n",
       "    </tr>\n",
       "    <tr>\n",
       "      <th>지훈</th>\n",
       "      <td>27</td>\n",
       "      <td>M</td>\n",
       "      <td>부산</td>\n",
       "      <td>컴퓨터공학</td>\n",
       "      <td>175</td>\n",
       "      <td>68</td>\n",
       "      <td>1</td>\n",
       "      <td>예</td>\n",
       "      <td>89.2</td>\n",
       "    </tr>\n",
       "    <tr>\n",
       "      <th>유진</th>\n",
       "      <td>22</td>\n",
       "      <td>F</td>\n",
       "      <td>대전</td>\n",
       "      <td>디자인</td>\n",
       "      <td>160</td>\n",
       "      <td>48</td>\n",
       "      <td>4</td>\n",
       "      <td>아니오</td>\n",
       "      <td>98.7</td>\n",
       "    </tr>\n",
       "    <tr>\n",
       "      <th>수아</th>\n",
       "      <td>26</td>\n",
       "      <td>F</td>\n",
       "      <td>광주</td>\n",
       "      <td>경영학</td>\n",
       "      <td>167</td>\n",
       "      <td>56</td>\n",
       "      <td>2</td>\n",
       "      <td>예</td>\n",
       "      <td>92.0</td>\n",
       "    </tr>\n",
       "    <tr>\n",
       "      <th>현우</th>\n",
       "      <td>25</td>\n",
       "      <td>M</td>\n",
       "      <td>인천</td>\n",
       "      <td>통계학</td>\n",
       "      <td>178</td>\n",
       "      <td>73</td>\n",
       "      <td>5</td>\n",
       "      <td>예</td>\n",
       "      <td>94.8</td>\n",
       "    </tr>\n",
       "  </tbody>\n",
       "</table>\n",
       "</div>"
      ],
      "text/plain": [
       "    나이 성별  지역     전공  키(cm)  몸무게(kg)  운동횟수 음주 여부  출석률(%)\n",
       "이름                                                      \n",
       "민지  24  F  서울    심리학    163       54     3   아니오    96.5\n",
       "지훈  27  M  부산  컴퓨터공학    175       68     1     예    89.2\n",
       "유진  22  F  대전    디자인    160       48     4   아니오    98.7\n",
       "수아  26  F  광주    경영학    167       56     2     예    92.0\n",
       "현우  25  M  인천    통계학    178       73     5     예    94.8"
      ]
     },
     "execution_count": 560,
     "metadata": {},
     "output_type": "execute_result"
    }
   ],
   "source": [
    "# 이름을 인덱스로 설정해주세요 set_index() data2에 저장\n",
    "data2 = data.set_index(\"이름\")\n",
    "data2"
   ]
  },
  {
   "cell_type": "code",
   "execution_count": 561,
   "metadata": {},
   "outputs": [
    {
     "data": {
      "text/html": [
       "<div>\n",
       "<style scoped>\n",
       "    .dataframe tbody tr th:only-of-type {\n",
       "        vertical-align: middle;\n",
       "    }\n",
       "\n",
       "    .dataframe tbody tr th {\n",
       "        vertical-align: top;\n",
       "    }\n",
       "\n",
       "    .dataframe thead th {\n",
       "        text-align: right;\n",
       "    }\n",
       "</style>\n",
       "<table border=\"1\" class=\"dataframe\">\n",
       "  <thead>\n",
       "    <tr style=\"text-align: right;\">\n",
       "      <th></th>\n",
       "      <th>이름</th>\n",
       "      <th>나이</th>\n",
       "      <th>성별</th>\n",
       "      <th>지역</th>\n",
       "      <th>전공</th>\n",
       "      <th>키(cm)</th>\n",
       "      <th>몸무게(kg)</th>\n",
       "      <th>운동횟수</th>\n",
       "      <th>음주 여부</th>\n",
       "      <th>출석률(%)</th>\n",
       "    </tr>\n",
       "  </thead>\n",
       "  <tbody>\n",
       "    <tr>\n",
       "      <th>0</th>\n",
       "      <td>민지</td>\n",
       "      <td>24</td>\n",
       "      <td>F</td>\n",
       "      <td>서울</td>\n",
       "      <td>심리학</td>\n",
       "      <td>163</td>\n",
       "      <td>54</td>\n",
       "      <td>3</td>\n",
       "      <td>아니오</td>\n",
       "      <td>96.5</td>\n",
       "    </tr>\n",
       "    <tr>\n",
       "      <th>1</th>\n",
       "      <td>지훈</td>\n",
       "      <td>27</td>\n",
       "      <td>M</td>\n",
       "      <td>부산</td>\n",
       "      <td>컴퓨터공학</td>\n",
       "      <td>175</td>\n",
       "      <td>68</td>\n",
       "      <td>1</td>\n",
       "      <td>예</td>\n",
       "      <td>89.2</td>\n",
       "    </tr>\n",
       "    <tr>\n",
       "      <th>2</th>\n",
       "      <td>유진</td>\n",
       "      <td>22</td>\n",
       "      <td>F</td>\n",
       "      <td>대전</td>\n",
       "      <td>디자인</td>\n",
       "      <td>160</td>\n",
       "      <td>48</td>\n",
       "      <td>4</td>\n",
       "      <td>아니오</td>\n",
       "      <td>98.7</td>\n",
       "    </tr>\n",
       "    <tr>\n",
       "      <th>3</th>\n",
       "      <td>수아</td>\n",
       "      <td>26</td>\n",
       "      <td>F</td>\n",
       "      <td>광주</td>\n",
       "      <td>경영학</td>\n",
       "      <td>167</td>\n",
       "      <td>56</td>\n",
       "      <td>2</td>\n",
       "      <td>예</td>\n",
       "      <td>92.0</td>\n",
       "    </tr>\n",
       "    <tr>\n",
       "      <th>4</th>\n",
       "      <td>현우</td>\n",
       "      <td>25</td>\n",
       "      <td>M</td>\n",
       "      <td>인천</td>\n",
       "      <td>통계학</td>\n",
       "      <td>178</td>\n",
       "      <td>73</td>\n",
       "      <td>5</td>\n",
       "      <td>예</td>\n",
       "      <td>94.8</td>\n",
       "    </tr>\n",
       "  </tbody>\n",
       "</table>\n",
       "</div>"
      ],
      "text/plain": [
       "   이름  나이 성별  지역     전공  키(cm)  몸무게(kg)  운동횟수 음주 여부  출석률(%)\n",
       "0  민지  24  F  서울    심리학    163       54     3   아니오    96.5\n",
       "1  지훈  27  M  부산  컴퓨터공학    175       68     1     예    89.2\n",
       "2  유진  22  F  대전    디자인    160       48     4   아니오    98.7\n",
       "3  수아  26  F  광주    경영학    167       56     2     예    92.0\n",
       "4  현우  25  M  인천    통계학    178       73     5     예    94.8"
      ]
     },
     "execution_count": 561,
     "metadata": {},
     "output_type": "execute_result"
    }
   ],
   "source": [
    "# data2에서 인덱스를 열로 바꿔주세요.\n",
    "data2.reset_index()"
   ]
  },
  {
   "cell_type": "code",
   "execution_count": 562,
   "metadata": {},
   "outputs": [
    {
     "data": {
      "text/html": [
       "<div>\n",
       "<style scoped>\n",
       "    .dataframe tbody tr th:only-of-type {\n",
       "        vertical-align: middle;\n",
       "    }\n",
       "\n",
       "    .dataframe tbody tr th {\n",
       "        vertical-align: top;\n",
       "    }\n",
       "\n",
       "    .dataframe thead th {\n",
       "        text-align: right;\n",
       "    }\n",
       "</style>\n",
       "<table border=\"1\" class=\"dataframe\">\n",
       "  <thead>\n",
       "    <tr style=\"text-align: right;\">\n",
       "      <th></th>\n",
       "      <th>이름</th>\n",
       "      <th>전공</th>\n",
       "    </tr>\n",
       "  </thead>\n",
       "  <tbody>\n",
       "    <tr>\n",
       "      <th>0</th>\n",
       "      <td>민지</td>\n",
       "      <td>심리학</td>\n",
       "    </tr>\n",
       "    <tr>\n",
       "      <th>1</th>\n",
       "      <td>지훈</td>\n",
       "      <td>컴퓨터공학</td>\n",
       "    </tr>\n",
       "    <tr>\n",
       "      <th>2</th>\n",
       "      <td>유진</td>\n",
       "      <td>디자인</td>\n",
       "    </tr>\n",
       "    <tr>\n",
       "      <th>3</th>\n",
       "      <td>수아</td>\n",
       "      <td>경영학</td>\n",
       "    </tr>\n",
       "    <tr>\n",
       "      <th>4</th>\n",
       "      <td>현우</td>\n",
       "      <td>통계학</td>\n",
       "    </tr>\n",
       "  </tbody>\n",
       "</table>\n",
       "</div>"
      ],
      "text/plain": [
       "   이름     전공\n",
       "0  민지    심리학\n",
       "1  지훈  컴퓨터공학\n",
       "2  유진    디자인\n",
       "3  수아    경영학\n",
       "4  현우    통계학"
      ]
     },
     "execution_count": 562,
     "metadata": {},
     "output_type": "execute_result"
    }
   ],
   "source": [
    "# data에서 이름, 전공 열을 조회해주세요.\n",
    "data[[\"이름\", \"전공\"]]"
   ]
  },
  {
   "cell_type": "code",
   "execution_count": 563,
   "metadata": {},
   "outputs": [
    {
     "data": {
      "text/html": [
       "<div>\n",
       "<style scoped>\n",
       "    .dataframe tbody tr th:only-of-type {\n",
       "        vertical-align: middle;\n",
       "    }\n",
       "\n",
       "    .dataframe tbody tr th {\n",
       "        vertical-align: top;\n",
       "    }\n",
       "\n",
       "    .dataframe thead th {\n",
       "        text-align: right;\n",
       "    }\n",
       "</style>\n",
       "<table border=\"1\" class=\"dataframe\">\n",
       "  <thead>\n",
       "    <tr style=\"text-align: right;\">\n",
       "      <th></th>\n",
       "      <th>나이</th>\n",
       "      <th>성별</th>\n",
       "      <th>지역</th>\n",
       "      <th>전공</th>\n",
       "      <th>키(cm)</th>\n",
       "      <th>몸무게(kg)</th>\n",
       "      <th>운동횟수</th>\n",
       "      <th>음주 여부</th>\n",
       "      <th>출석률(%)</th>\n",
       "    </tr>\n",
       "    <tr>\n",
       "      <th>이름</th>\n",
       "      <th></th>\n",
       "      <th></th>\n",
       "      <th></th>\n",
       "      <th></th>\n",
       "      <th></th>\n",
       "      <th></th>\n",
       "      <th></th>\n",
       "      <th></th>\n",
       "      <th></th>\n",
       "    </tr>\n",
       "  </thead>\n",
       "  <tbody>\n",
       "    <tr>\n",
       "      <th>수아</th>\n",
       "      <td>26</td>\n",
       "      <td>F</td>\n",
       "      <td>광주</td>\n",
       "      <td>경영학</td>\n",
       "      <td>167</td>\n",
       "      <td>56</td>\n",
       "      <td>2</td>\n",
       "      <td>예</td>\n",
       "      <td>92.0</td>\n",
       "    </tr>\n",
       "  </tbody>\n",
       "</table>\n",
       "</div>"
      ],
      "text/plain": [
       "    나이 성별  지역   전공  키(cm)  몸무게(kg)  운동횟수 음주 여부  출석률(%)\n",
       "이름                                                    \n",
       "수아  26  F  광주  경영학    167       56     2     예    92.0"
      ]
     },
     "execution_count": 563,
     "metadata": {},
     "output_type": "execute_result"
    }
   ],
   "source": [
    "# data2에서 수아 학생의 데이터를 조회해주세요.\n",
    "data2.loc[\"수아\",:]\n",
    "data2.loc[[\"수아\"],:]"
   ]
  },
  {
   "cell_type": "code",
   "execution_count": 564,
   "metadata": {},
   "outputs": [
    {
     "data": {
      "text/html": [
       "<div>\n",
       "<style scoped>\n",
       "    .dataframe tbody tr th:only-of-type {\n",
       "        vertical-align: middle;\n",
       "    }\n",
       "\n",
       "    .dataframe tbody tr th {\n",
       "        vertical-align: top;\n",
       "    }\n",
       "\n",
       "    .dataframe thead th {\n",
       "        text-align: right;\n",
       "    }\n",
       "</style>\n",
       "<table border=\"1\" class=\"dataframe\">\n",
       "  <thead>\n",
       "    <tr style=\"text-align: right;\">\n",
       "      <th></th>\n",
       "      <th>나이</th>\n",
       "      <th>성별</th>\n",
       "      <th>지역</th>\n",
       "      <th>전공</th>\n",
       "      <th>키(cm)</th>\n",
       "      <th>몸무게(kg)</th>\n",
       "      <th>운동횟수</th>\n",
       "      <th>음주 여부</th>\n",
       "      <th>출석률(%)</th>\n",
       "    </tr>\n",
       "    <tr>\n",
       "      <th>이름</th>\n",
       "      <th></th>\n",
       "      <th></th>\n",
       "      <th></th>\n",
       "      <th></th>\n",
       "      <th></th>\n",
       "      <th></th>\n",
       "      <th></th>\n",
       "      <th></th>\n",
       "      <th></th>\n",
       "    </tr>\n",
       "  </thead>\n",
       "  <tbody>\n",
       "    <tr>\n",
       "      <th>지훈</th>\n",
       "      <td>27</td>\n",
       "      <td>M</td>\n",
       "      <td>부산</td>\n",
       "      <td>컴퓨터공학</td>\n",
       "      <td>175</td>\n",
       "      <td>68</td>\n",
       "      <td>1</td>\n",
       "      <td>예</td>\n",
       "      <td>89.2</td>\n",
       "    </tr>\n",
       "    <tr>\n",
       "      <th>현우</th>\n",
       "      <td>25</td>\n",
       "      <td>M</td>\n",
       "      <td>인천</td>\n",
       "      <td>통계학</td>\n",
       "      <td>178</td>\n",
       "      <td>73</td>\n",
       "      <td>5</td>\n",
       "      <td>예</td>\n",
       "      <td>94.8</td>\n",
       "    </tr>\n",
       "  </tbody>\n",
       "</table>\n",
       "</div>"
      ],
      "text/plain": [
       "    나이 성별  지역     전공  키(cm)  몸무게(kg)  운동횟수 음주 여부  출석률(%)\n",
       "이름                                                      \n",
       "지훈  27  M  부산  컴퓨터공학    175       68     1     예    89.2\n",
       "현우  25  M  인천    통계학    178       73     5     예    94.8"
      ]
     },
     "execution_count": 564,
     "metadata": {},
     "output_type": "execute_result"
    }
   ],
   "source": [
    "# data2에서 지훈, 현우 학생의 데이터를 조회해주세요\n",
    "data2.loc[[\"지훈\", \"현우\"], :]"
   ]
  },
  {
   "cell_type": "code",
   "execution_count": 565,
   "metadata": {},
   "outputs": [
    {
     "data": {
      "text/plain": [
       "'아니오'"
      ]
     },
     "execution_count": 565,
     "metadata": {},
     "output_type": "execute_result"
    }
   ],
   "source": [
    "# data2에서 유진 학생의 음주 여부를 조회해주세요.\n",
    "data2.loc[\"유진\", \"음주 여부\"]\n",
    "data2.iloc[2, -2]"
   ]
  },
  {
   "cell_type": "code",
   "execution_count": 566,
   "metadata": {},
   "outputs": [
    {
     "data": {
      "text/html": [
       "<div>\n",
       "<style scoped>\n",
       "    .dataframe tbody tr th:only-of-type {\n",
       "        vertical-align: middle;\n",
       "    }\n",
       "\n",
       "    .dataframe tbody tr th {\n",
       "        vertical-align: top;\n",
       "    }\n",
       "\n",
       "    .dataframe thead th {\n",
       "        text-align: right;\n",
       "    }\n",
       "</style>\n",
       "<table border=\"1\" class=\"dataframe\">\n",
       "  <thead>\n",
       "    <tr style=\"text-align: right;\">\n",
       "      <th></th>\n",
       "      <th>이름</th>\n",
       "      <th>나이</th>\n",
       "      <th>성별</th>\n",
       "      <th>지역</th>\n",
       "      <th>전공</th>\n",
       "      <th>키(cm)</th>\n",
       "      <th>몸무게(kg)</th>\n",
       "      <th>운동횟수</th>\n",
       "      <th>음주 여부</th>\n",
       "      <th>출석률(%)</th>\n",
       "    </tr>\n",
       "  </thead>\n",
       "  <tbody>\n",
       "    <tr>\n",
       "      <th>0</th>\n",
       "      <td>민지</td>\n",
       "      <td>24</td>\n",
       "      <td>F</td>\n",
       "      <td>서울</td>\n",
       "      <td>심리학</td>\n",
       "      <td>163</td>\n",
       "      <td>54</td>\n",
       "      <td>3</td>\n",
       "      <td>아니오</td>\n",
       "      <td>96.5</td>\n",
       "    </tr>\n",
       "    <tr>\n",
       "      <th>1</th>\n",
       "      <td>지훈</td>\n",
       "      <td>27</td>\n",
       "      <td>M</td>\n",
       "      <td>부산</td>\n",
       "      <td>컴퓨터공학</td>\n",
       "      <td>175</td>\n",
       "      <td>68</td>\n",
       "      <td>1</td>\n",
       "      <td>예</td>\n",
       "      <td>89.2</td>\n",
       "    </tr>\n",
       "    <tr>\n",
       "      <th>2</th>\n",
       "      <td>유진</td>\n",
       "      <td>22</td>\n",
       "      <td>F</td>\n",
       "      <td>대전</td>\n",
       "      <td>디자인</td>\n",
       "      <td>160</td>\n",
       "      <td>48</td>\n",
       "      <td>4</td>\n",
       "      <td>아니오</td>\n",
       "      <td>98.7</td>\n",
       "    </tr>\n",
       "    <tr>\n",
       "      <th>3</th>\n",
       "      <td>수아</td>\n",
       "      <td>26</td>\n",
       "      <td>F</td>\n",
       "      <td>광주</td>\n",
       "      <td>경영학</td>\n",
       "      <td>167</td>\n",
       "      <td>56</td>\n",
       "      <td>2</td>\n",
       "      <td>예</td>\n",
       "      <td>92.0</td>\n",
       "    </tr>\n",
       "    <tr>\n",
       "      <th>4</th>\n",
       "      <td>현우</td>\n",
       "      <td>25</td>\n",
       "      <td>M</td>\n",
       "      <td>인천</td>\n",
       "      <td>통계학</td>\n",
       "      <td>178</td>\n",
       "      <td>73</td>\n",
       "      <td>5</td>\n",
       "      <td>예</td>\n",
       "      <td>94.8</td>\n",
       "    </tr>\n",
       "  </tbody>\n",
       "</table>\n",
       "</div>"
      ],
      "text/plain": [
       "   이름  나이 성별  지역     전공  키(cm)  몸무게(kg)  운동횟수 음주 여부  출석률(%)\n",
       "0  민지  24  F  서울    심리학    163       54     3   아니오    96.5\n",
       "1  지훈  27  M  부산  컴퓨터공학    175       68     1     예    89.2\n",
       "2  유진  22  F  대전    디자인    160       48     4   아니오    98.7\n",
       "3  수아  26  F  광주    경영학    167       56     2     예    92.0\n",
       "4  현우  25  M  인천    통계학    178       73     5     예    94.8"
      ]
     },
     "execution_count": 566,
     "metadata": {},
     "output_type": "execute_result"
    }
   ],
   "source": [
    "data"
   ]
  },
  {
   "cell_type": "code",
   "execution_count": 567,
   "metadata": {},
   "outputs": [
    {
     "data": {
      "text/html": [
       "<div>\n",
       "<style scoped>\n",
       "    .dataframe tbody tr th:only-of-type {\n",
       "        vertical-align: middle;\n",
       "    }\n",
       "\n",
       "    .dataframe tbody tr th {\n",
       "        vertical-align: top;\n",
       "    }\n",
       "\n",
       "    .dataframe thead th {\n",
       "        text-align: right;\n",
       "    }\n",
       "</style>\n",
       "<table border=\"1\" class=\"dataframe\">\n",
       "  <thead>\n",
       "    <tr style=\"text-align: right;\">\n",
       "      <th></th>\n",
       "      <th>나이</th>\n",
       "      <th>성별</th>\n",
       "      <th>지역</th>\n",
       "      <th>전공</th>\n",
       "      <th>키(cm)</th>\n",
       "      <th>몸무게(kg)</th>\n",
       "      <th>운동횟수</th>\n",
       "      <th>음주 여부</th>\n",
       "      <th>출석률(%)</th>\n",
       "    </tr>\n",
       "    <tr>\n",
       "      <th>이름</th>\n",
       "      <th></th>\n",
       "      <th></th>\n",
       "      <th></th>\n",
       "      <th></th>\n",
       "      <th></th>\n",
       "      <th></th>\n",
       "      <th></th>\n",
       "      <th></th>\n",
       "      <th></th>\n",
       "    </tr>\n",
       "  </thead>\n",
       "  <tbody>\n",
       "    <tr>\n",
       "      <th>민지</th>\n",
       "      <td>24</td>\n",
       "      <td>F</td>\n",
       "      <td>서울</td>\n",
       "      <td>심리학</td>\n",
       "      <td>163</td>\n",
       "      <td>54</td>\n",
       "      <td>3</td>\n",
       "      <td>아니오</td>\n",
       "      <td>96.5</td>\n",
       "    </tr>\n",
       "    <tr>\n",
       "      <th>지훈</th>\n",
       "      <td>27</td>\n",
       "      <td>M</td>\n",
       "      <td>부산</td>\n",
       "      <td>컴퓨터공학</td>\n",
       "      <td>175</td>\n",
       "      <td>68</td>\n",
       "      <td>1</td>\n",
       "      <td>예</td>\n",
       "      <td>89.2</td>\n",
       "    </tr>\n",
       "    <tr>\n",
       "      <th>유진</th>\n",
       "      <td>22</td>\n",
       "      <td>F</td>\n",
       "      <td>대전</td>\n",
       "      <td>디자인</td>\n",
       "      <td>160</td>\n",
       "      <td>48</td>\n",
       "      <td>4</td>\n",
       "      <td>아니오</td>\n",
       "      <td>98.7</td>\n",
       "    </tr>\n",
       "    <tr>\n",
       "      <th>수아</th>\n",
       "      <td>26</td>\n",
       "      <td>F</td>\n",
       "      <td>광주</td>\n",
       "      <td>경영학</td>\n",
       "      <td>167</td>\n",
       "      <td>56</td>\n",
       "      <td>2</td>\n",
       "      <td>예</td>\n",
       "      <td>92.0</td>\n",
       "    </tr>\n",
       "    <tr>\n",
       "      <th>현우</th>\n",
       "      <td>25</td>\n",
       "      <td>M</td>\n",
       "      <td>인천</td>\n",
       "      <td>통계학</td>\n",
       "      <td>178</td>\n",
       "      <td>73</td>\n",
       "      <td>5</td>\n",
       "      <td>예</td>\n",
       "      <td>94.8</td>\n",
       "    </tr>\n",
       "  </tbody>\n",
       "</table>\n",
       "</div>"
      ],
      "text/plain": [
       "    나이 성별  지역     전공  키(cm)  몸무게(kg)  운동횟수 음주 여부  출석률(%)\n",
       "이름                                                      \n",
       "민지  24  F  서울    심리학    163       54     3   아니오    96.5\n",
       "지훈  27  M  부산  컴퓨터공학    175       68     1     예    89.2\n",
       "유진  22  F  대전    디자인    160       48     4   아니오    98.7\n",
       "수아  26  F  광주    경영학    167       56     2     예    92.0\n",
       "현우  25  M  인천    통계학    178       73     5     예    94.8"
      ]
     },
     "execution_count": 567,
     "metadata": {},
     "output_type": "execute_result"
    }
   ],
   "source": [
    "data2"
   ]
  },
  {
   "cell_type": "code",
   "execution_count": 568,
   "metadata": {},
   "outputs": [
    {
     "data": {
      "text/plain": [
       "몸무게(kg)    54\n",
       "운동횟수        3\n",
       "Name: 민지, dtype: object"
      ]
     },
     "execution_count": 568,
     "metadata": {},
     "output_type": "execute_result"
    }
   ],
   "source": [
    "# data2에서 민지 학생의 키, 몸무게를 조회해주세요.\n",
    "data2.loc[\"민지\", [\"키(cm)\", \"몸무게(kg)\"]]\n",
    "data2.iloc[0, 5:7]"
   ]
  },
  {
   "cell_type": "code",
   "execution_count": 569,
   "metadata": {},
   "outputs": [
    {
     "data": {
      "text/html": [
       "<div>\n",
       "<style scoped>\n",
       "    .dataframe tbody tr th:only-of-type {\n",
       "        vertical-align: middle;\n",
       "    }\n",
       "\n",
       "    .dataframe tbody tr th {\n",
       "        vertical-align: top;\n",
       "    }\n",
       "\n",
       "    .dataframe thead th {\n",
       "        text-align: right;\n",
       "    }\n",
       "</style>\n",
       "<table border=\"1\" class=\"dataframe\">\n",
       "  <thead>\n",
       "    <tr style=\"text-align: right;\">\n",
       "      <th></th>\n",
       "      <th>이름</th>\n",
       "      <th>나이</th>\n",
       "      <th>성별</th>\n",
       "      <th>지역</th>\n",
       "      <th>전공</th>\n",
       "      <th>키(cm)</th>\n",
       "      <th>몸무게(kg)</th>\n",
       "      <th>운동횟수</th>\n",
       "      <th>음주 여부</th>\n",
       "      <th>출석률(%)</th>\n",
       "    </tr>\n",
       "  </thead>\n",
       "  <tbody>\n",
       "    <tr>\n",
       "      <th>0</th>\n",
       "      <td>민지</td>\n",
       "      <td>24</td>\n",
       "      <td>F</td>\n",
       "      <td>서울</td>\n",
       "      <td>심리학</td>\n",
       "      <td>163</td>\n",
       "      <td>54</td>\n",
       "      <td>3</td>\n",
       "      <td>아니오</td>\n",
       "      <td>96.5</td>\n",
       "    </tr>\n",
       "    <tr>\n",
       "      <th>2</th>\n",
       "      <td>유진</td>\n",
       "      <td>22</td>\n",
       "      <td>F</td>\n",
       "      <td>대전</td>\n",
       "      <td>디자인</td>\n",
       "      <td>160</td>\n",
       "      <td>48</td>\n",
       "      <td>4</td>\n",
       "      <td>아니오</td>\n",
       "      <td>98.7</td>\n",
       "    </tr>\n",
       "    <tr>\n",
       "      <th>3</th>\n",
       "      <td>수아</td>\n",
       "      <td>26</td>\n",
       "      <td>F</td>\n",
       "      <td>광주</td>\n",
       "      <td>경영학</td>\n",
       "      <td>167</td>\n",
       "      <td>56</td>\n",
       "      <td>2</td>\n",
       "      <td>예</td>\n",
       "      <td>92.0</td>\n",
       "    </tr>\n",
       "  </tbody>\n",
       "</table>\n",
       "</div>"
      ],
      "text/plain": [
       "   이름  나이 성별  지역   전공  키(cm)  몸무게(kg)  운동횟수 음주 여부  출석률(%)\n",
       "0  민지  24  F  서울  심리학    163       54     3   아니오    96.5\n",
       "2  유진  22  F  대전  디자인    160       48     4   아니오    98.7\n",
       "3  수아  26  F  광주  경영학    167       56     2     예    92.0"
      ]
     },
     "execution_count": 569,
     "metadata": {},
     "output_type": "execute_result"
    }
   ],
   "source": [
    "# data에서 성별이 F인 데이터민 조회해주세요.\n",
    "data.loc[data[\"성별\"] == \"F\",:]"
   ]
  },
  {
   "cell_type": "code",
   "execution_count": 570,
   "metadata": {},
   "outputs": [
    {
     "data": {
      "text/html": [
       "<div>\n",
       "<style scoped>\n",
       "    .dataframe tbody tr th:only-of-type {\n",
       "        vertical-align: middle;\n",
       "    }\n",
       "\n",
       "    .dataframe tbody tr th {\n",
       "        vertical-align: top;\n",
       "    }\n",
       "\n",
       "    .dataframe thead th {\n",
       "        text-align: right;\n",
       "    }\n",
       "</style>\n",
       "<table border=\"1\" class=\"dataframe\">\n",
       "  <thead>\n",
       "    <tr style=\"text-align: right;\">\n",
       "      <th></th>\n",
       "      <th>이름</th>\n",
       "      <th>나이</th>\n",
       "      <th>성별</th>\n",
       "      <th>지역</th>\n",
       "      <th>전공</th>\n",
       "      <th>키(cm)</th>\n",
       "      <th>몸무게(kg)</th>\n",
       "      <th>운동횟수</th>\n",
       "      <th>음주 여부</th>\n",
       "      <th>출석률(%)</th>\n",
       "    </tr>\n",
       "  </thead>\n",
       "  <tbody>\n",
       "    <tr>\n",
       "      <th>0</th>\n",
       "      <td>민지</td>\n",
       "      <td>24</td>\n",
       "      <td>F</td>\n",
       "      <td>서울</td>\n",
       "      <td>심리학</td>\n",
       "      <td>163</td>\n",
       "      <td>54</td>\n",
       "      <td>3</td>\n",
       "      <td>아니오</td>\n",
       "      <td>96.5</td>\n",
       "    </tr>\n",
       "    <tr>\n",
       "      <th>2</th>\n",
       "      <td>유진</td>\n",
       "      <td>22</td>\n",
       "      <td>F</td>\n",
       "      <td>대전</td>\n",
       "      <td>디자인</td>\n",
       "      <td>160</td>\n",
       "      <td>48</td>\n",
       "      <td>4</td>\n",
       "      <td>아니오</td>\n",
       "      <td>98.7</td>\n",
       "    </tr>\n",
       "    <tr>\n",
       "      <th>3</th>\n",
       "      <td>수아</td>\n",
       "      <td>26</td>\n",
       "      <td>F</td>\n",
       "      <td>광주</td>\n",
       "      <td>경영학</td>\n",
       "      <td>167</td>\n",
       "      <td>56</td>\n",
       "      <td>2</td>\n",
       "      <td>예</td>\n",
       "      <td>92.0</td>\n",
       "    </tr>\n",
       "  </tbody>\n",
       "</table>\n",
       "</div>"
      ],
      "text/plain": [
       "   이름  나이 성별  지역   전공  키(cm)  몸무게(kg)  운동횟수 음주 여부  출석률(%)\n",
       "0  민지  24  F  서울  심리학    163       54     3   아니오    96.5\n",
       "2  유진  22  F  대전  디자인    160       48     4   아니오    98.7\n",
       "3  수아  26  F  광주  경영학    167       56     2     예    92.0"
      ]
     },
     "execution_count": 570,
     "metadata": {},
     "output_type": "execute_result"
    }
   ],
   "source": [
    "# data에서 키가 170미만이고 출석률이 90% 이상인 데이터를 조회해주세요.\n",
    "# and\n",
    "data.loc[(data[\"키(cm)\"] < 170) & (data[\"출석률(%)\"] >= 90), :]"
   ]
  },
  {
   "cell_type": "code",
   "execution_count": 571,
   "metadata": {},
   "outputs": [
    {
     "data": {
      "text/html": [
       "<div>\n",
       "<style scoped>\n",
       "    .dataframe tbody tr th:only-of-type {\n",
       "        vertical-align: middle;\n",
       "    }\n",
       "\n",
       "    .dataframe tbody tr th {\n",
       "        vertical-align: top;\n",
       "    }\n",
       "\n",
       "    .dataframe thead th {\n",
       "        text-align: right;\n",
       "    }\n",
       "</style>\n",
       "<table border=\"1\" class=\"dataframe\">\n",
       "  <thead>\n",
       "    <tr style=\"text-align: right;\">\n",
       "      <th></th>\n",
       "      <th>이름</th>\n",
       "      <th>나이</th>\n",
       "      <th>성별</th>\n",
       "      <th>지역</th>\n",
       "      <th>전공</th>\n",
       "      <th>키(cm)</th>\n",
       "      <th>몸무게(kg)</th>\n",
       "      <th>운동횟수</th>\n",
       "      <th>음주 여부</th>\n",
       "      <th>출석률(%)</th>\n",
       "    </tr>\n",
       "  </thead>\n",
       "  <tbody>\n",
       "    <tr>\n",
       "      <th>0</th>\n",
       "      <td>민지</td>\n",
       "      <td>24</td>\n",
       "      <td>F</td>\n",
       "      <td>서울</td>\n",
       "      <td>심리학</td>\n",
       "      <td>163</td>\n",
       "      <td>54</td>\n",
       "      <td>3</td>\n",
       "      <td>아니오</td>\n",
       "      <td>96.5</td>\n",
       "    </tr>\n",
       "    <tr>\n",
       "      <th>1</th>\n",
       "      <td>지훈</td>\n",
       "      <td>27</td>\n",
       "      <td>M</td>\n",
       "      <td>부산</td>\n",
       "      <td>컴퓨터공학</td>\n",
       "      <td>175</td>\n",
       "      <td>68</td>\n",
       "      <td>1</td>\n",
       "      <td>예</td>\n",
       "      <td>89.2</td>\n",
       "    </tr>\n",
       "    <tr>\n",
       "      <th>2</th>\n",
       "      <td>유진</td>\n",
       "      <td>22</td>\n",
       "      <td>F</td>\n",
       "      <td>대전</td>\n",
       "      <td>디자인</td>\n",
       "      <td>160</td>\n",
       "      <td>48</td>\n",
       "      <td>4</td>\n",
       "      <td>아니오</td>\n",
       "      <td>98.7</td>\n",
       "    </tr>\n",
       "  </tbody>\n",
       "</table>\n",
       "</div>"
      ],
      "text/plain": [
       "   이름  나이 성별  지역     전공  키(cm)  몸무게(kg)  운동횟수 음주 여부  출석률(%)\n",
       "0  민지  24  F  서울    심리학    163       54     3   아니오    96.5\n",
       "1  지훈  27  M  부산  컴퓨터공학    175       68     1     예    89.2\n",
       "2  유진  22  F  대전    디자인    160       48     4   아니오    98.7"
      ]
     },
     "execution_count": 571,
     "metadata": {},
     "output_type": "execute_result"
    }
   ],
   "source": [
    "# data에서 나이가 25미만이거나 지역이 부산인 데이터를 조회해주세요.\n",
    "# or\n",
    "data.loc[(data[\"나이\"] < 25) | (data[\"지역\"] == \"부산\"), :]"
   ]
  },
  {
   "cell_type": "code",
   "execution_count": 572,
   "metadata": {},
   "outputs": [
    {
     "data": {
      "text/html": [
       "<div>\n",
       "<style scoped>\n",
       "    .dataframe tbody tr th:only-of-type {\n",
       "        vertical-align: middle;\n",
       "    }\n",
       "\n",
       "    .dataframe tbody tr th {\n",
       "        vertical-align: top;\n",
       "    }\n",
       "\n",
       "    .dataframe thead th {\n",
       "        text-align: right;\n",
       "    }\n",
       "</style>\n",
       "<table border=\"1\" class=\"dataframe\">\n",
       "  <thead>\n",
       "    <tr style=\"text-align: right;\">\n",
       "      <th></th>\n",
       "      <th>이름</th>\n",
       "      <th>나이</th>\n",
       "      <th>성별</th>\n",
       "      <th>지역</th>\n",
       "      <th>전공</th>\n",
       "      <th>키(cm)</th>\n",
       "      <th>몸무게(kg)</th>\n",
       "      <th>운동횟수</th>\n",
       "      <th>음주 여부</th>\n",
       "      <th>출석률(%)</th>\n",
       "    </tr>\n",
       "  </thead>\n",
       "  <tbody>\n",
       "    <tr>\n",
       "      <th>2</th>\n",
       "      <td>유진</td>\n",
       "      <td>22</td>\n",
       "      <td>F</td>\n",
       "      <td>대전</td>\n",
       "      <td>디자인</td>\n",
       "      <td>160</td>\n",
       "      <td>48</td>\n",
       "      <td>4</td>\n",
       "      <td>아니오</td>\n",
       "      <td>98.7</td>\n",
       "    </tr>\n",
       "    <tr>\n",
       "      <th>0</th>\n",
       "      <td>민지</td>\n",
       "      <td>24</td>\n",
       "      <td>F</td>\n",
       "      <td>서울</td>\n",
       "      <td>심리학</td>\n",
       "      <td>163</td>\n",
       "      <td>54</td>\n",
       "      <td>3</td>\n",
       "      <td>아니오</td>\n",
       "      <td>96.5</td>\n",
       "    </tr>\n",
       "    <tr>\n",
       "      <th>4</th>\n",
       "      <td>현우</td>\n",
       "      <td>25</td>\n",
       "      <td>M</td>\n",
       "      <td>인천</td>\n",
       "      <td>통계학</td>\n",
       "      <td>178</td>\n",
       "      <td>73</td>\n",
       "      <td>5</td>\n",
       "      <td>예</td>\n",
       "      <td>94.8</td>\n",
       "    </tr>\n",
       "    <tr>\n",
       "      <th>3</th>\n",
       "      <td>수아</td>\n",
       "      <td>26</td>\n",
       "      <td>F</td>\n",
       "      <td>광주</td>\n",
       "      <td>경영학</td>\n",
       "      <td>167</td>\n",
       "      <td>56</td>\n",
       "      <td>2</td>\n",
       "      <td>예</td>\n",
       "      <td>92.0</td>\n",
       "    </tr>\n",
       "    <tr>\n",
       "      <th>1</th>\n",
       "      <td>지훈</td>\n",
       "      <td>27</td>\n",
       "      <td>M</td>\n",
       "      <td>부산</td>\n",
       "      <td>컴퓨터공학</td>\n",
       "      <td>175</td>\n",
       "      <td>68</td>\n",
       "      <td>1</td>\n",
       "      <td>예</td>\n",
       "      <td>89.2</td>\n",
       "    </tr>\n",
       "  </tbody>\n",
       "</table>\n",
       "</div>"
      ],
      "text/plain": [
       "   이름  나이 성별  지역     전공  키(cm)  몸무게(kg)  운동횟수 음주 여부  출석률(%)\n",
       "2  유진  22  F  대전    디자인    160       48     4   아니오    98.7\n",
       "0  민지  24  F  서울    심리학    163       54     3   아니오    96.5\n",
       "4  현우  25  M  인천    통계학    178       73     5     예    94.8\n",
       "3  수아  26  F  광주    경영학    167       56     2     예    92.0\n",
       "1  지훈  27  M  부산  컴퓨터공학    175       68     1     예    89.2"
      ]
     },
     "execution_count": 572,
     "metadata": {},
     "output_type": "execute_result"
    }
   ],
   "source": [
    "# data에서 출석률을 기준으로 내립차순 정렬해주세요.\n",
    "# ascending\n",
    "data.sort_values(by=\"출석률(%)\", ascending=False)"
   ]
  },
  {
   "cell_type": "markdown",
   "metadata": {
    "id": "xJgp-Mwv8Xf6"
   },
   "source": [
    "### (1) 이름으로 조회"
   ]
  },
  {
   "cell_type": "markdown",
   "metadata": {
    "id": "QxhHRQ-A8Xf6"
   },
   "source": [
    "#### 열 조회"
   ]
  },
  {
   "cell_type": "markdown",
   "metadata": {
    "id": "ge17gMqh8Xf6"
   },
   "source": [
    "#### 행 조회"
   ]
  },
  {
   "cell_type": "markdown",
   "metadata": {
    "id": "QCWBrszr8Xf7"
   },
   "source": [
    "#### 셀 조회"
   ]
  },
  {
   "cell_type": "markdown",
   "metadata": {
    "id": "b4dzn3df8Xf7"
   },
   "source": [
    "### (2) 인덱스로 조회"
   ]
  },
  {
   "cell_type": "markdown",
   "metadata": {
    "id": "omHWnnNH8Xf7"
   },
   "source": [
    "#### 열 조회"
   ]
  },
  {
   "cell_type": "markdown",
   "metadata": {
    "id": "nhlPV3Li8Xf7"
   },
   "source": [
    "#### 행 조회"
   ]
  },
  {
   "cell_type": "markdown",
   "metadata": {
    "id": "IDi1hnNW8Xf7"
   },
   "source": [
    "#### 셀 조회"
   ]
  },
  {
   "cell_type": "markdown",
   "metadata": {
    "id": "bW1tDwk78Xf7"
   },
   "source": [
    "### (3) 조건부 조회"
   ]
  },
  {
   "cell_type": "markdown",
   "metadata": {
    "id": "YFBS4Y6I8Xf7"
   },
   "source": [
    "## 3) 편집"
   ]
  },
  {
   "cell_type": "markdown",
   "metadata": {
    "id": "x3DnO1DJ8Xf7"
   },
   "source": [
    "### (1) 인덱스 제거"
   ]
  },
  {
   "cell_type": "markdown",
   "metadata": {
    "id": "BMGNY3wS8Xf7"
   },
   "source": [
    "### (2) 데이터 병합"
   ]
  },
  {
   "cell_type": "markdown",
   "metadata": {
    "id": "s3yaMXnF8Xf7"
   },
   "source": [
    "### (3) 결측치 처리"
   ]
  },
  {
   "cell_type": "markdown",
   "metadata": {
    "id": "EoDxFYRo8Xf7"
   },
   "source": [
    "## 4) 통계"
   ]
  },
  {
   "cell_type": "markdown",
   "metadata": {
    "id": "XmKWtnxw8Xf7"
   },
   "source": [
    "# 3. 실습"
   ]
  },
  {
   "cell_type": "markdown",
   "metadata": {
    "id": "ppRPFTzj8Xf7"
   },
   "source": [
    "## 예제 1."
   ]
  },
  {
   "cell_type": "markdown",
   "metadata": {
    "id": "1aQ81IgO8Xf7"
   },
   "source": [
    "## 예제 2."
   ]
  },
  {
   "cell_type": "markdown",
   "metadata": {
    "id": "zAeCK6EL8Xf7"
   },
   "source": [
    "## 예제 3. 자동차 회사의연비 데이터"
   ]
  },
  {
   "cell_type": "markdown",
   "metadata": {
    "id": "B6AoMUTx8Xf7"
   },
   "source": [
    "* manufacturer : 회사명\n",
    "* cty : 도심연비\n",
    "* hwy : 고속도로 연비"
   ]
  },
  {
   "cell_type": "markdown",
   "metadata": {
    "id": "_QAyGT8w8Xf7"
   },
   "source": [
    "## 데이터 불러오기"
   ]
  },
  {
   "cell_type": "markdown",
   "metadata": {
    "id": "H-GeQq7R8Xf-"
   },
   "source": [
    "## 데이터 파악하기"
   ]
  },
  {
   "cell_type": "markdown",
   "metadata": {
    "id": "Mf6S0-Ci8Xf-"
   },
   "source": [
    "## Q1. 몇 개의 회사 데이터가 있나요?"
   ]
  },
  {
   "cell_type": "markdown",
   "metadata": {
    "id": "ssdcIqYW8Xf-"
   },
   "source": [
    "## Q2. 회사별로 참여한 자동차가 몇 대인지 파악하세요."
   ]
  },
  {
   "cell_type": "markdown",
   "metadata": {
    "id": "C873IbLV8Xf-"
   },
   "source": [
    "## Q3. 도심연비와 고속도로 연비를 평균낸 total 연비를 구하세요"
   ]
  },
  {
   "cell_type": "markdown",
   "metadata": {
    "id": "Sx6SAMx58Xf-"
   },
   "source": [
    "## Q4. total 연비 상위 10개 회사의 회사별 개수를 구하세요"
   ]
  },
  {
   "cell_type": "markdown",
   "metadata": {
    "id": "nhjdxHWu8Xf-"
   },
   "source": [
    "## +Quiz. 현대자동차의 평균 total 연비에 대한 평균값은?"
   ]
  },
  {
   "cell_type": "markdown",
   "metadata": {
    "id": "TF2vFfnJ8Xf_"
   },
   "source": [
    "## Q5. 평균 total 연비보다 높은 자동차는 PASS, 낮은 자동차는 FAIL로 구분하세요."
   ]
  },
  {
   "cell_type": "markdown",
   "metadata": {
    "id": "GLXhyVE58Xf_"
   },
   "source": [
    "## +Quiz. PASS인 자동차 중 가장 많은 숫자의 자동차 회사는?"
   ]
  }
 ],
 "metadata": {
  "colab": {
   "provenance": []
  },
  "kernelspec": {
   "display_name": "250714",
   "language": "python",
   "name": "python3"
  },
  "language_info": {
   "codemirror_mode": {
    "name": "ipython",
    "version": 3
   },
   "file_extension": ".py",
   "mimetype": "text/x-python",
   "name": "python",
   "nbconvert_exporter": "python",
   "pygments_lexer": "ipython3",
   "version": "3.13.5"
  }
 },
 "nbformat": 4,
 "nbformat_minor": 0
}
