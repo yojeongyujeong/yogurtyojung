{
 "cells": [
  {
   "cell_type": "code",
   "execution_count": 1,
   "id": "268b4f8f",
   "metadata": {},
   "outputs": [
    {
     "ename": "SystemError",
     "evalue": "java.lang.UnsatisfiedLinkError: Can't load library: c:\\WANTED~1\\_7",
     "output_type": "error",
     "traceback": [
      "\u001b[31m---------------------------------------------------------------------------\u001b[39m",
      "\u001b[31mSystemError\u001b[39m                               Traceback (most recent call last)",
      "\u001b[36mCell\u001b[39m\u001b[36m \u001b[39m\u001b[32mIn[1]\u001b[39m\u001b[32m, line 3\u001b[39m\n\u001b[32m      1\u001b[39m \u001b[38;5;28;01mfrom\u001b[39;00m\u001b[38;5;250m \u001b[39m\u001b[34;01mkonlpy\u001b[39;00m\u001b[34;01m.\u001b[39;00m\u001b[34;01mtag\u001b[39;00m\u001b[38;5;250m \u001b[39m\u001b[38;5;28;01mimport\u001b[39;00m Kkma \u001b[38;5;66;03m# Okt, Kkma\u001b[39;00m\n\u001b[32m----> \u001b[39m\u001b[32m3\u001b[39m okt = \u001b[43mKkma\u001b[49m\u001b[43m(\u001b[49m\u001b[43m)\u001b[49m\n\u001b[32m      5\u001b[39m text = \u001b[33m\"\u001b[39m\u001b[33m분명 배달이 완료되었는데 나는 받지 않았어\u001b[39m\u001b[33m\"\u001b[39m\n\u001b[32m      6\u001b[39m result = okt.pos(text)\n",
      "\u001b[36mFile \u001b[39m\u001b[32mc:\\WANTEDLAB_2025\\[7월]AI AGENT\\250714\\.venv\\Lib\\site-packages\\konlpy\\tag\\_kkma.py:44\u001b[39m, in \u001b[36mKkma.__init__\u001b[39m\u001b[34m(self, jvmpath, max_heap_size)\u001b[39m\n\u001b[32m     42\u001b[39m \u001b[38;5;28;01mdef\u001b[39;00m\u001b[38;5;250m \u001b[39m\u001b[34m__init__\u001b[39m(\u001b[38;5;28mself\u001b[39m, jvmpath=\u001b[38;5;28;01mNone\u001b[39;00m, max_heap_size=\u001b[32m1024\u001b[39m):\n\u001b[32m     43\u001b[39m     \u001b[38;5;28;01mif\u001b[39;00m \u001b[38;5;129;01mnot\u001b[39;00m jpype.isJVMStarted():\n\u001b[32m---> \u001b[39m\u001b[32m44\u001b[39m         \u001b[43mjvm\u001b[49m\u001b[43m.\u001b[49m\u001b[43minit_jvm\u001b[49m\u001b[43m(\u001b[49m\u001b[43mjvmpath\u001b[49m\u001b[43m,\u001b[49m\u001b[43m \u001b[49m\u001b[43mmax_heap_size\u001b[49m\u001b[43m)\u001b[49m\n\u001b[32m     46\u001b[39m     kkmaJavaPackage = jpype.JPackage(\u001b[33m'\u001b[39m\u001b[33mkr.lucypark.kkma\u001b[39m\u001b[33m'\u001b[39m)\n\u001b[32m     47\u001b[39m     KkmaInterfaceJavaClass = kkmaJavaPackage.KkmaInterface\n",
      "\u001b[36mFile \u001b[39m\u001b[32mc:\\WANTEDLAB_2025\\[7월]AI AGENT\\250714\\.venv\\Lib\\site-packages\\konlpy\\jvm.py:64\u001b[39m, in \u001b[36minit_jvm\u001b[39m\u001b[34m(jvmpath, max_heap_size)\u001b[39m\n\u001b[32m     61\u001b[39m     jvmpath = \u001b[33m'\u001b[39m\u001b[38;5;132;01m%s\u001b[39;00m\u001b[33m/lib/jli/libjli.dylib\u001b[39m\u001b[33m'\u001b[39m % jvmpath.split(\u001b[33m'\u001b[39m\u001b[33m/lib/\u001b[39m\u001b[33m'\u001b[39m)[\u001b[32m0\u001b[39m]\n\u001b[32m     63\u001b[39m \u001b[38;5;28;01mif\u001b[39;00m jvmpath:\n\u001b[32m---> \u001b[39m\u001b[32m64\u001b[39m     \u001b[43mjpype\u001b[49m\u001b[43m.\u001b[49m\u001b[43mstartJVM\u001b[49m\u001b[43m(\u001b[49m\u001b[43mjvmpath\u001b[49m\u001b[43m,\u001b[49m\u001b[43m \u001b[49m\u001b[33;43m'\u001b[39;49m\u001b[33;43m-Dfile.encoding=UTF8\u001b[39;49m\u001b[33;43m'\u001b[39;49m\u001b[43m,\u001b[49m\n\u001b[32m     65\u001b[39m \u001b[43m                            \u001b[49m\u001b[33;43m'\u001b[39;49m\u001b[33;43m-ea\u001b[39;49m\u001b[33;43m'\u001b[39;49m\u001b[43m,\u001b[49m\u001b[43m \u001b[49m\u001b[33;43m'\u001b[39;49m\u001b[33;43m-Xmx\u001b[39;49m\u001b[38;5;132;43;01m{}\u001b[39;49;00m\u001b[33;43mm\u001b[39;49m\u001b[33;43m'\u001b[39;49m\u001b[43m.\u001b[49m\u001b[43mformat\u001b[49m\u001b[43m(\u001b[49m\u001b[43mmax_heap_size\u001b[49m\u001b[43m)\u001b[49m\u001b[43m,\u001b[49m\n\u001b[32m     66\u001b[39m \u001b[43m                            \u001b[49m\u001b[43mclasspath\u001b[49m\u001b[43m=\u001b[49m\u001b[43mclasspath\u001b[49m\u001b[43m,\u001b[49m\n\u001b[32m     67\u001b[39m \u001b[43m                            \u001b[49m\u001b[43mconvertStrings\u001b[49m\u001b[43m=\u001b[49m\u001b[38;5;28;43;01mTrue\u001b[39;49;00m\u001b[43m)\u001b[49m\n\u001b[32m     68\u001b[39m \u001b[38;5;28;01melse\u001b[39;00m:\n\u001b[32m     69\u001b[39m     \u001b[38;5;28;01mraise\u001b[39;00m \u001b[38;5;167;01mValueError\u001b[39;00m(\u001b[33m\"\u001b[39m\u001b[33mPlease specify the JVM path.\u001b[39m\u001b[33m\"\u001b[39m)\n",
      "\u001b[36mFile \u001b[39m\u001b[32mc:\\WANTEDLAB_2025\\[7월]AI AGENT\\250714\\.venv\\Lib\\site-packages\\jpype\\_core.py:357\u001b[39m, in \u001b[36mstartJVM\u001b[39m\u001b[34m(jvmpath, classpath, ignoreUnrecognized, convertStrings, interrupt, *jvmargs)\u001b[39m\n\u001b[32m    355\u001b[39m prior = [locale.getlocale(i) \u001b[38;5;28;01mfor\u001b[39;00m i \u001b[38;5;129;01min\u001b[39;00m categories]\n\u001b[32m    356\u001b[39m \u001b[38;5;66;03m# Start the JVM\u001b[39;00m\n\u001b[32m--> \u001b[39m\u001b[32m357\u001b[39m \u001b[43m_jpype\u001b[49m\u001b[43m.\u001b[49m\u001b[43mstartup\u001b[49m\u001b[43m(\u001b[49m\u001b[43mjvmpath\u001b[49m\u001b[43m,\u001b[49m\u001b[43m \u001b[49m\u001b[38;5;28;43mtuple\u001b[39;49m\u001b[43m(\u001b[49m\u001b[43mjvm_args\u001b[49m\u001b[43m \u001b[49m\u001b[43m+\u001b[49m\u001b[43m \u001b[49m\u001b[43mextra_jvm_args\u001b[49m\u001b[43m)\u001b[49m\u001b[43m,\u001b[49m\n\u001b[32m    358\u001b[39m \u001b[43m               \u001b[49m\u001b[43mignoreUnrecognized\u001b[49m\u001b[43m,\u001b[49m\u001b[43m \u001b[49m\u001b[43mconvertStrings\u001b[49m\u001b[43m,\u001b[49m\u001b[43m \u001b[49m\u001b[43minterrupt\u001b[49m\u001b[43m,\u001b[49m\u001b[43m \u001b[49m\u001b[43mtmp\u001b[49m\u001b[43m)\u001b[49m\n\u001b[32m    359\u001b[39m \u001b[38;5;66;03m# Collect required resources for operation\u001b[39;00m\n\u001b[32m    360\u001b[39m initializeResources()\n",
      "\u001b[31mSystemError\u001b[39m: java.lang.UnsatisfiedLinkError: Can't load library: c:\\WANTED~1\\_7"
     ]
    }
   ],
   "source": [
    "from konlpy.tag import Kkma # Okt, Kkma\n",
    "\n",
    "okt = Kkma()\n",
    "\n",
    "text = \"분명 배달이 완료되었는데 나는 받지 않았어\"\n",
    "result = okt.pos(text)\n",
    "\n",
    "print(result)"
   ]
  }
 ],
 "metadata": {
  "kernelspec": {
   "display_name": "250714",
   "language": "python",
   "name": "python3"
  },
  "language_info": {
   "codemirror_mode": {
    "name": "ipython",
    "version": 3
   },
   "file_extension": ".py",
   "mimetype": "text/x-python",
   "name": "python",
   "nbconvert_exporter": "python",
   "pygments_lexer": "ipython3",
   "version": "3.13.5"
  }
 },
 "nbformat": 4,
 "nbformat_minor": 5
}
