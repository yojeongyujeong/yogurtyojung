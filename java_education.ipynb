{
 "cells": [
  {
   "cell_type": "code",
   "execution_count": 39,
   "id": "30a9993e",
   "metadata": {},
   "outputs": [
    {
     "name": "stdout",
     "output_type": "stream",
     "text": [
      "['네, 안녕하세요.', '반갑습니다.']\n"
     ]
    }
   ],
   "source": [
    "# 테스트 코드\n",
    "from konlpy.tag import Kkma \n",
    "from konlpy.utils import pprint \n",
    "\n",
    "kkma = Kkma()\n",
    "pprint(kkma.sentences(u'네, 안녕하세요. 반갑습니다.'))"
   ]
  },
  {
   "cell_type": "code",
   "execution_count": 40,
   "id": "c368b4a4",
   "metadata": {},
   "outputs": [
    {
     "name": "stdout",
     "output_type": "stream",
     "text": [
      "('분명', 'Noun')\n",
      "('배달', 'Noun')\n",
      "('이', 'Josa')\n",
      "('완료', 'Noun')\n",
      "('되었는데', 'Verb')\n",
      "('나', 'Noun')\n",
      "('는', 'Josa')\n",
      "('받지', 'Verb')\n",
      "('않았어', 'Verb')\n"
     ]
    }
   ],
   "source": [
    "from konlpy.tag import Okt # Okt, Kkma\n",
    "\n",
    "okt = Okt()\n",
    "\n",
    "text = \"분명 배달이 완료되었는데 나는 받지 않았어\"\n",
    "result = okt.pos(text)\n",
    "\n",
    "for res in result:\n",
    "    print(res)"
   ]
  },
  {
   "cell_type": "code",
   "execution_count": 41,
   "id": "b9231a36",
   "metadata": {},
   "outputs": [
    {
     "name": "stdout",
     "output_type": "stream",
     "text": [
      "분명\n",
      "배달\n",
      "이\n",
      "완료\n",
      "되었는데\n",
      "나\n",
      "는\n",
      "받지\n",
      "않았어\n"
     ]
    }
   ],
   "source": [
    "from konlpy.tag import Okt # Okt, Kkma\n",
    "\n",
    "okt = Okt()\n",
    "\n",
    "text = \"분명 배달이 완료되었는데 나는 받지 않았어\"\n",
    "result = okt.morphs(text)\n",
    "\n",
    "for res in result:\n",
    "    print(res)"
   ]
  },
  {
   "cell_type": "code",
   "execution_count": 42,
   "id": "0a1af5f6",
   "metadata": {},
   "outputs": [
    {
     "name": "stdout",
     "output_type": "stream",
     "text": [
      "분명\n",
      "배달\n",
      "완료\n",
      "나\n"
     ]
    }
   ],
   "source": [
    "from konlpy.tag import Okt # Okt, Kkma\n",
    "\n",
    "okt = Okt()\n",
    "\n",
    "text = \"분명 배달이 완료되었는데 나는 받지 않았어\"\n",
    "result = okt.nouns(text) \n",
    "\n",
    "for res in result:\n",
    "    print(res)"
   ]
  },
  {
   "cell_type": "code",
   "execution_count": 43,
   "id": "45149025",
   "metadata": {},
   "outputs": [
    {
     "name": "stdout",
     "output_type": "stream",
     "text": [
      "[('분명', 'Noun'), ('배달', 'Noun'), ('이', 'Josa'), ('완료', 'Noun'), ('되었는데', 'Verb'), ('나', 'Noun'), ('는', 'Josa'), ('받지', 'Verb'), ('않았어', 'Verb')]\n",
      "['분명', '배달', '이', '완료', '되었는데', '나', '는', '받지', '않았어']\n",
      "['분명', '배달', '완료', '나']\n"
     ]
    }
   ],
   "source": [
    "from konlpy.tag import Okt # Okt, Kkma\n",
    "\n",
    "okt = Okt()\n",
    "\n",
    "text = \"분명 배달이 완료되었는데 나는 받지 않았어\"\n",
    "result1 = okt.pos(text)     # pos() => 품사 태깅\n",
    "result2 = okt.morphs(text)\n",
    "result3 = okt.nouns(text)\n",
    "\n",
    "print(result1)\n",
    "print(result2)\n",
    "print(result3)"
   ]
  },
  {
   "cell_type": "code",
   "execution_count": 44,
   "id": "8054e4d3",
   "metadata": {},
   "outputs": [
    {
     "name": "stdout",
     "output_type": "stream",
     "text": [
      "[('나', 'Noun'), ('는', 'Josa'), ('밥', 'Noun'), ('을', 'Josa'), ('먹었엌', 'Noun'), ('ㅋㅋㅋ', 'KoreanParticle')]\n",
      "[('나', 'Noun'), ('는', 'Josa'), ('밥', 'Noun'), ('을', 'Josa'), ('먹었어', 'Verb'), ('ㅋㅋㅋ', 'KoreanParticle')]\n",
      "[('나', 'Noun'), ('는', 'Josa'), ('밥', 'Noun'), ('을', 'Josa'), ('먹다', 'Verb')]\n"
     ]
    }
   ],
   "source": [
    "text1 = \"나는 밥을 먹었엌ㅋㅋㅋ\"\n",
    "text2 = \"나는 밥을 먹었다\"\n",
    "\n",
    "result1 = okt.pos(text1)\n",
    "result2 = okt.pos(text1, norm=True) # norm => 표준어로 바꿔주는 옵션\n",
    "result3 = okt.pos(text2, stem=True) # stem => 현재형으로 바꿔주는 옵션\n",
    "\n",
    "print(result1)\n",
    "print(result2)\n",
    "print(result3)"
   ]
  },
  {
   "cell_type": "markdown",
   "id": "d9bfeec6",
   "metadata": {},
   "source": [
    "# 1) 데이터 불러오기"
   ]
  },
  {
   "cell_type": "code",
   "execution_count": 45,
   "id": "595dc7d1",
   "metadata": {},
   "outputs": [],
   "source": [
    "# 데이터 불러오기\n",
    "# 미션1: 첫번째 데이터 댓글을 형태소 분석기로 쪼개보기\n",
    "# 미션2: 처음부터 5개의 데이터 댓글을 추출해서 반복문으로 형태소 분석기로 쪼개보기"
   ]
  },
  {
   "cell_type": "code",
   "execution_count": null,
   "id": "30ac8fbc",
   "metadata": {},
   "outputs": [
    {
     "data": {
      "text/html": [
       "<div>\n",
       "<style scoped>\n",
       "    .dataframe tbody tr th:only-of-type {\n",
       "        vertical-align: middle;\n",
       "    }\n",
       "\n",
       "    .dataframe tbody tr th {\n",
       "        vertical-align: top;\n",
       "    }\n",
       "\n",
       "    .dataframe thead th {\n",
       "        text-align: right;\n",
       "    }\n",
       "</style>\n",
       "<table border=\"1\" class=\"dataframe\">\n",
       "  <thead>\n",
       "    <tr style=\"text-align: right;\">\n",
       "      <th></th>\n",
       "      <th>Unnamed: 0</th>\n",
       "      <th>댓글</th>\n",
       "    </tr>\n",
       "  </thead>\n",
       "  <tbody>\n",
       "    <tr>\n",
       "      <th>0</th>\n",
       "      <td>0</td>\n",
       "      <td>NaN</td>\n",
       "    </tr>\n",
       "    <tr>\n",
       "      <th>1</th>\n",
       "      <td>1</td>\n",
       "      <td>NaN</td>\n",
       "    </tr>\n",
       "    <tr>\n",
       "      <th>2</th>\n",
       "      <td>2</td>\n",
       "      <td>NaN</td>\n",
       "    </tr>\n",
       "    <tr>\n",
       "      <th>3</th>\n",
       "      <td>3</td>\n",
       "      <td>80분 걸린다길래 주문취소 하려고 주문내역에 들어가면 계속 최신 정보를 불러오지 못...</td>\n",
       "    </tr>\n",
       "    <tr>\n",
       "      <th>4</th>\n",
       "      <td>4</td>\n",
       "      <td>음식 하나 시키는데 우리나라 앱들은 1) 국내 번호 필요함. 번호 인증 필수 2) ...</td>\n",
       "    </tr>\n",
       "    <tr>\n",
       "      <th>5</th>\n",
       "      <td>5</td>\n",
       "      <td>왜이렇게 업데이트 할때마다 사용하기 점점 불편하게 바뀌는지? 클릭한번 더 해야되고 ...</td>\n",
       "    </tr>\n",
       "    <tr>\n",
       "      <th>6</th>\n",
       "      <td>6</td>\n",
       "      <td>배달의 민족앱자체는 만족하나, 식사후 맛 리뷰 평점 자체는 클린하게 이뤄지진 못하는...</td>\n",
       "    </tr>\n",
       "    <tr>\n",
       "      <th>7</th>\n",
       "      <td>7</td>\n",
       "      <td>장바구니가 너무 불편합니다. 비마트에서 여러가지를 담고 스크롤 올리고 내릴때 살짝 ...</td>\n",
       "    </tr>\n",
       "    <tr>\n",
       "      <th>8</th>\n",
       "      <td>8</td>\n",
       "      <td>B마트 이용중인데 언제부턴가 전체선택 버튼이 비활성화되어있습니다. 장바구니에 있는것...</td>\n",
       "    </tr>\n",
       "    <tr>\n",
       "      <th>9</th>\n",
       "      <td>9</td>\n",
       "      <td>수저포크x 버튼 기본으로 활성화 되어있는거 환경 보호한다고 해놓은거 압니다. 그런데...</td>\n",
       "    </tr>\n",
       "  </tbody>\n",
       "</table>\n",
       "</div>"
      ],
      "text/plain": [
       "   Unnamed: 0                                                 댓글\n",
       "0           0                                                NaN\n",
       "1           1                                                NaN\n",
       "2           2                                                NaN\n",
       "3           3  80분 걸린다길래 주문취소 하려고 주문내역에 들어가면 계속 최신 정보를 불러오지 못...\n",
       "4           4  음식 하나 시키는데 우리나라 앱들은 1) 국내 번호 필요함. 번호 인증 필수 2) ...\n",
       "5           5  왜이렇게 업데이트 할때마다 사용하기 점점 불편하게 바뀌는지? 클릭한번 더 해야되고 ...\n",
       "6           6  배달의 민족앱자체는 만족하나, 식사후 맛 리뷰 평점 자체는 클린하게 이뤄지진 못하는...\n",
       "7           7  장바구니가 너무 불편합니다. 비마트에서 여러가지를 담고 스크롤 올리고 내릴때 살짝 ...\n",
       "8           8  B마트 이용중인데 언제부턴가 전체선택 버튼이 비활성화되어있습니다. 장바구니에 있는것...\n",
       "9           9  수저포크x 버튼 기본으로 활성화 되어있는거 환경 보호한다고 해놓은거 압니다. 그런데..."
      ]
     },
     "execution_count": 46,
     "metadata": {},
     "output_type": "execute_result"
    }
   ],
   "source": [
    "# 데이터 불러오기\n",
    "import pandas as pd\n",
    "baemin_reveiws = pd.read_csv(\"배달의민족댓글.csv\")\n",
    "baemin_reveiws.head(10)"
   ]
  },
  {
   "cell_type": "code",
   "execution_count": null,
   "id": "9eac8d3c",
   "metadata": {},
   "outputs": [
    {
     "data": {
      "text/plain": [
       "Unnamed: 0    0\n",
       "댓글            3\n",
       "dtype: int64"
      ]
     },
     "execution_count": 47,
     "metadata": {},
     "output_type": "execute_result"
    }
   ],
   "source": [
    "# 결측치 확인하기\n",
    "baemin_reveiws.isna().sum()"
   ]
  },
  {
   "cell_type": "code",
   "execution_count": null,
   "id": "6cbf89f1",
   "metadata": {},
   "outputs": [
    {
     "data": {
      "text/html": [
       "<div>\n",
       "<style scoped>\n",
       "    .dataframe tbody tr th:only-of-type {\n",
       "        vertical-align: middle;\n",
       "    }\n",
       "\n",
       "    .dataframe tbody tr th {\n",
       "        vertical-align: top;\n",
       "    }\n",
       "\n",
       "    .dataframe thead th {\n",
       "        text-align: right;\n",
       "    }\n",
       "</style>\n",
       "<table border=\"1\" class=\"dataframe\">\n",
       "  <thead>\n",
       "    <tr style=\"text-align: right;\">\n",
       "      <th></th>\n",
       "      <th>Unnamed: 0</th>\n",
       "      <th>댓글</th>\n",
       "    </tr>\n",
       "  </thead>\n",
       "  <tbody>\n",
       "    <tr>\n",
       "      <th>0</th>\n",
       "      <td>3</td>\n",
       "      <td>80분 걸린다길래 주문취소 하려고 주문내역에 들어가면 계속 최신 정보를 불러오지 못...</td>\n",
       "    </tr>\n",
       "    <tr>\n",
       "      <th>1</th>\n",
       "      <td>4</td>\n",
       "      <td>음식 하나 시키는데 우리나라 앱들은 1) 국내 번호 필요함. 번호 인증 필수 2) ...</td>\n",
       "    </tr>\n",
       "    <tr>\n",
       "      <th>2</th>\n",
       "      <td>5</td>\n",
       "      <td>왜이렇게 업데이트 할때마다 사용하기 점점 불편하게 바뀌는지? 클릭한번 더 해야되고 ...</td>\n",
       "    </tr>\n",
       "    <tr>\n",
       "      <th>3</th>\n",
       "      <td>6</td>\n",
       "      <td>배달의 민족앱자체는 만족하나, 식사후 맛 리뷰 평점 자체는 클린하게 이뤄지진 못하는...</td>\n",
       "    </tr>\n",
       "    <tr>\n",
       "      <th>4</th>\n",
       "      <td>7</td>\n",
       "      <td>장바구니가 너무 불편합니다. 비마트에서 여러가지를 담고 스크롤 올리고 내릴때 살짝 ...</td>\n",
       "    </tr>\n",
       "    <tr>\n",
       "      <th>5</th>\n",
       "      <td>8</td>\n",
       "      <td>B마트 이용중인데 언제부턴가 전체선택 버튼이 비활성화되어있습니다. 장바구니에 있는것...</td>\n",
       "    </tr>\n",
       "    <tr>\n",
       "      <th>6</th>\n",
       "      <td>9</td>\n",
       "      <td>수저포크x 버튼 기본으로 활성화 되어있는거 환경 보호한다고 해놓은거 압니다. 그런데...</td>\n",
       "    </tr>\n",
       "    <tr>\n",
       "      <th>7</th>\n",
       "      <td>10</td>\n",
       "      <td>개선이되고 업데이트가 된다는건 불편했던 사항들을 반영하는것 아닌가요? 오히려 더 불...</td>\n",
       "    </tr>\n",
       "    <tr>\n",
       "      <th>8</th>\n",
       "      <td>11</td>\n",
       "      <td>사용자만 볼 수있는 배달시켰던 가게들에 대한 메모기능?이랑 언제 몇번 먹었다 같은걸...</td>\n",
       "    </tr>\n",
       "    <tr>\n",
       "      <th>9</th>\n",
       "      <td>12</td>\n",
       "      <td>저는 알뜰이나 한집배달이용을 원치않는데 가게검색시에는 가게배달은 선택할수가없네요. ...</td>\n",
       "    </tr>\n",
       "    <tr>\n",
       "      <th>10</th>\n",
       "      <td>13</td>\n",
       "      <td>실시간 채팅상담 해결해주지도 못하는데 없는게 나을 것 같음. 결제수단 변경 요청했더...</td>\n",
       "    </tr>\n",
       "    <tr>\n",
       "      <th>11</th>\n",
       "      <td>14</td>\n",
       "      <td>별점 하나도 아까움 ㅎ 배차 관리도 못하고 업주한테든 고객한테든 제대로 된 보상도 ...</td>\n",
       "    </tr>\n",
       "    <tr>\n",
       "      <th>12</th>\n",
       "      <td>15</td>\n",
       "      <td>찜 기능에 폴더로 분류할 수 있는 기능이 있었으면 좋겠습니다. 배달팁이 저렴한 가게...</td>\n",
       "    </tr>\n",
       "    <tr>\n",
       "      <th>13</th>\n",
       "      <td>16</td>\n",
       "      <td>왜 배달이 사라지고 자체배달이 생긴걸까요? 이제 알뜰이랑 한집배달만 남은건가요? 일...</td>\n",
       "    </tr>\n",
       "    <tr>\n",
       "      <th>14</th>\n",
       "      <td>17</td>\n",
       "      <td>편의점 꺼 30분을 기다렸는데 갑자기 기타 사유로 주문이 취소가 됐어요. 평소에 워...</td>\n",
       "    </tr>\n",
       "  </tbody>\n",
       "</table>\n",
       "</div>"
      ],
      "text/plain": [
       "    Unnamed: 0                                                 댓글\n",
       "0            3  80분 걸린다길래 주문취소 하려고 주문내역에 들어가면 계속 최신 정보를 불러오지 못...\n",
       "1            4  음식 하나 시키는데 우리나라 앱들은 1) 국내 번호 필요함. 번호 인증 필수 2) ...\n",
       "2            5  왜이렇게 업데이트 할때마다 사용하기 점점 불편하게 바뀌는지? 클릭한번 더 해야되고 ...\n",
       "3            6  배달의 민족앱자체는 만족하나, 식사후 맛 리뷰 평점 자체는 클린하게 이뤄지진 못하는...\n",
       "4            7  장바구니가 너무 불편합니다. 비마트에서 여러가지를 담고 스크롤 올리고 내릴때 살짝 ...\n",
       "5            8  B마트 이용중인데 언제부턴가 전체선택 버튼이 비활성화되어있습니다. 장바구니에 있는것...\n",
       "6            9  수저포크x 버튼 기본으로 활성화 되어있는거 환경 보호한다고 해놓은거 압니다. 그런데...\n",
       "7           10  개선이되고 업데이트가 된다는건 불편했던 사항들을 반영하는것 아닌가요? 오히려 더 불...\n",
       "8           11  사용자만 볼 수있는 배달시켰던 가게들에 대한 메모기능?이랑 언제 몇번 먹었다 같은걸...\n",
       "9           12  저는 알뜰이나 한집배달이용을 원치않는데 가게검색시에는 가게배달은 선택할수가없네요. ...\n",
       "10          13  실시간 채팅상담 해결해주지도 못하는데 없는게 나을 것 같음. 결제수단 변경 요청했더...\n",
       "11          14  별점 하나도 아까움 ㅎ 배차 관리도 못하고 업주한테든 고객한테든 제대로 된 보상도 ...\n",
       "12          15  찜 기능에 폴더로 분류할 수 있는 기능이 있었으면 좋겠습니다. 배달팁이 저렴한 가게...\n",
       "13          16  왜 배달이 사라지고 자체배달이 생긴걸까요? 이제 알뜰이랑 한집배달만 남은건가요? 일...\n",
       "14          17  편의점 꺼 30분을 기다렸는데 갑자기 기타 사유로 주문이 취소가 됐어요. 평소에 워..."
      ]
     },
     "execution_count": 51,
     "metadata": {},
     "output_type": "execute_result"
    }
   ],
   "source": [
    "# 결측치 제거하기\n",
    "baemin_reveiws_alpha = baemin_reveiws.dropna().reset_index(drop=True)\n",
    "baemin_reveiws_alpha.head(15)"
   ]
  },
  {
   "cell_type": "code",
   "execution_count": null,
   "id": "2153352b",
   "metadata": {},
   "outputs": [],
   "source": [
    "# 데이터 저장하기\n",
    "baemin_reveiws_alpha.to_csv(\"배달의민족댓글.csv\")"
   ]
  },
  {
   "cell_type": "code",
   "execution_count": 53,
   "id": "52b3dd5c",
   "metadata": {},
   "outputs": [
    {
     "data": {
      "text/html": [
       "<div>\n",
       "<style scoped>\n",
       "    .dataframe tbody tr th:only-of-type {\n",
       "        vertical-align: middle;\n",
       "    }\n",
       "\n",
       "    .dataframe tbody tr th {\n",
       "        vertical-align: top;\n",
       "    }\n",
       "\n",
       "    .dataframe thead th {\n",
       "        text-align: right;\n",
       "    }\n",
       "</style>\n",
       "<table border=\"1\" class=\"dataframe\">\n",
       "  <thead>\n",
       "    <tr style=\"text-align: right;\">\n",
       "      <th></th>\n",
       "      <th>Unnamed: 0.1</th>\n",
       "      <th>Unnamed: 0</th>\n",
       "      <th>댓글</th>\n",
       "    </tr>\n",
       "  </thead>\n",
       "  <tbody>\n",
       "    <tr>\n",
       "      <th>0</th>\n",
       "      <td>0</td>\n",
       "      <td>3</td>\n",
       "      <td>80분 걸린다길래 주문취소 하려고 주문내역에 들어가면 계속 최신 정보를 불러오지 못...</td>\n",
       "    </tr>\n",
       "    <tr>\n",
       "      <th>1</th>\n",
       "      <td>1</td>\n",
       "      <td>4</td>\n",
       "      <td>음식 하나 시키는데 우리나라 앱들은 1) 국내 번호 필요함. 번호 인증 필수 2) ...</td>\n",
       "    </tr>\n",
       "    <tr>\n",
       "      <th>2</th>\n",
       "      <td>2</td>\n",
       "      <td>5</td>\n",
       "      <td>왜이렇게 업데이트 할때마다 사용하기 점점 불편하게 바뀌는지? 클릭한번 더 해야되고 ...</td>\n",
       "    </tr>\n",
       "    <tr>\n",
       "      <th>3</th>\n",
       "      <td>3</td>\n",
       "      <td>6</td>\n",
       "      <td>배달의 민족앱자체는 만족하나, 식사후 맛 리뷰 평점 자체는 클린하게 이뤄지진 못하는...</td>\n",
       "    </tr>\n",
       "    <tr>\n",
       "      <th>4</th>\n",
       "      <td>4</td>\n",
       "      <td>7</td>\n",
       "      <td>장바구니가 너무 불편합니다. 비마트에서 여러가지를 담고 스크롤 올리고 내릴때 살짝 ...</td>\n",
       "    </tr>\n",
       "    <tr>\n",
       "      <th>...</th>\n",
       "      <td>...</td>\n",
       "      <td>...</td>\n",
       "      <td>...</td>\n",
       "    </tr>\n",
       "    <tr>\n",
       "      <th>455</th>\n",
       "      <td>455</td>\n",
       "      <td>458</td>\n",
       "      <td>우선 배달업체 광고가 너무 많습니다. 두번째는 주문직전 주소바꾸기 안되는게 매우매우...</td>\n",
       "    </tr>\n",
       "    <tr>\n",
       "      <th>456</th>\n",
       "      <td>456</td>\n",
       "      <td>459</td>\n",
       "      <td>배민 쭉 써왔고 쓴소리 하나 하려합니다. 중간다리 플랫폼으로서 식당/유저 사이 중재...</td>\n",
       "    </tr>\n",
       "    <tr>\n",
       "      <th>457</th>\n",
       "      <td>457</td>\n",
       "      <td>460</td>\n",
       "      <td>업데이트된거 디자인 너무 불편해요. 배민1 부분에서 음식점 둘러보는데 빨리 한거번에...</td>\n",
       "    </tr>\n",
       "    <tr>\n",
       "      <th>458</th>\n",
       "      <td>458</td>\n",
       "      <td>461</td>\n",
       "      <td>첫주문도 아닌데 첫주문 할인받으로 광고 계속오고 친구초대 하려하니까 주문내역이 없다...</td>\n",
       "    </tr>\n",
       "    <tr>\n",
       "      <th>459</th>\n",
       "      <td>459</td>\n",
       "      <td>462</td>\n",
       "      <td>메뉴 잘못와서 문의하는데 채팅 답변하는데만 20분 걸림 메뉴 다시받는데 1시간 걸림...</td>\n",
       "    </tr>\n",
       "  </tbody>\n",
       "</table>\n",
       "<p>460 rows × 3 columns</p>\n",
       "</div>"
      ],
      "text/plain": [
       "     Unnamed: 0.1  Unnamed: 0  \\\n",
       "0               0           3   \n",
       "1               1           4   \n",
       "2               2           5   \n",
       "3               3           6   \n",
       "4               4           7   \n",
       "..            ...         ...   \n",
       "455           455         458   \n",
       "456           456         459   \n",
       "457           457         460   \n",
       "458           458         461   \n",
       "459           459         462   \n",
       "\n",
       "                                                    댓글  \n",
       "0    80분 걸린다길래 주문취소 하려고 주문내역에 들어가면 계속 최신 정보를 불러오지 못...  \n",
       "1    음식 하나 시키는데 우리나라 앱들은 1) 국내 번호 필요함. 번호 인증 필수 2) ...  \n",
       "2    왜이렇게 업데이트 할때마다 사용하기 점점 불편하게 바뀌는지? 클릭한번 더 해야되고 ...  \n",
       "3    배달의 민족앱자체는 만족하나, 식사후 맛 리뷰 평점 자체는 클린하게 이뤄지진 못하는...  \n",
       "4    장바구니가 너무 불편합니다. 비마트에서 여러가지를 담고 스크롤 올리고 내릴때 살짝 ...  \n",
       "..                                                 ...  \n",
       "455  우선 배달업체 광고가 너무 많습니다. 두번째는 주문직전 주소바꾸기 안되는게 매우매우...  \n",
       "456  배민 쭉 써왔고 쓴소리 하나 하려합니다. 중간다리 플랫폼으로서 식당/유저 사이 중재...  \n",
       "457  업데이트된거 디자인 너무 불편해요. 배민1 부분에서 음식점 둘러보는데 빨리 한거번에...  \n",
       "458  첫주문도 아닌데 첫주문 할인받으로 광고 계속오고 친구초대 하려하니까 주문내역이 없다...  \n",
       "459  메뉴 잘못와서 문의하는데 채팅 답변하는데만 20분 걸림 메뉴 다시받는데 1시간 걸림...  \n",
       "\n",
       "[460 rows x 3 columns]"
      ]
     },
     "execution_count": 53,
     "metadata": {},
     "output_type": "execute_result"
    }
   ],
   "source": [
    "baemin_reveiws = pd.read_csv(\"배달의민족댓글.csv\")\n",
    "baemin_reveiws"
   ]
  },
  {
   "cell_type": "code",
   "execution_count": 62,
   "id": "2adb3e92",
   "metadata": {},
   "outputs": [
    {
     "data": {
      "text/plain": [
       "'80분 걸린다길래 주문취소 하려고 주문내역에 들어가면 계속 최신 정보를 불러오지 못했다고만 로딩반복. 로딩 이미지는 깨져서 나오고 안정적인 네트워크 상황 하에서 새로고침을 눌러도 무한로딩이고 심지어 지금 진행중인 주문내역 정보조차 정확하지 않음. 코로나 때문에 서버가 불안정한건지 뭔지는 모르겠으나 결국엔 취소 못하고 꼼짝없이 기다려 먹게됐네요.'"
      ]
     },
     "execution_count": 62,
     "metadata": {},
     "output_type": "execute_result"
    }
   ],
   "source": [
    "# 첫번째 댓글 가져오기\n",
    "review1 = baemin_reveiws[\"댓글\"][0]\n",
    "review1"
   ]
  },
  {
   "cell_type": "code",
   "execution_count": null,
   "id": "aa067f81",
   "metadata": {},
   "outputs": [],
   "source": [
    "from konlpy.tag import Okt # Okt, Kkma\n",
    "\n",
    "okt = Okt()\n",
    "\n",
    "text = review1\n",
    "result = okt.pos(text)\n",
    "\n",
    "for res in result:\n",
    "    print(res)"
   ]
  },
  {
   "cell_type": "code",
   "execution_count": 64,
   "id": "29d057bf",
   "metadata": {},
   "outputs": [
    {
     "data": {
      "text/plain": [
       "0    80분 걸린다길래 주문취소 하려고 주문내역에 들어가면 계속 최신 정보를 불러오지 못...\n",
       "1    음식 하나 시키는데 우리나라 앱들은 1) 국내 번호 필요함. 번호 인증 필수 2) ...\n",
       "2    왜이렇게 업데이트 할때마다 사용하기 점점 불편하게 바뀌는지? 클릭한번 더 해야되고 ...\n",
       "3    배달의 민족앱자체는 만족하나, 식사후 맛 리뷰 평점 자체는 클린하게 이뤄지진 못하는...\n",
       "4    장바구니가 너무 불편합니다. 비마트에서 여러가지를 담고 스크롤 올리고 내릴때 살짝 ...\n",
       "Name: 댓글, dtype: object"
      ]
     },
     "execution_count": 64,
     "metadata": {},
     "output_type": "execute_result"
    }
   ],
   "source": [
    "# 처음부터 다섯개의 댓글 가져오기\n",
    "review5 = baemin_reveiws[\"댓글\"][:5]\n",
    "review5"
   ]
  },
  {
   "cell_type": "code",
   "execution_count": 66,
   "id": "4fdafa01",
   "metadata": {},
   "outputs": [
    {
     "name": "stdout",
     "output_type": "stream",
     "text": [
      "0번째 형태소 분석기 결과:\n",
      "\t[('80분', 'Number'), ('걸린다길래', 'Verb'), ('주문', 'Noun'), ('취소', 'Noun'), ('하려고', 'Verb'), ('주', 'Modifier'), ('문', 'Modifier'), ('내', 'Modifier'), ('역', 'Noun'), ('에', 'Josa'), ('들어가면', 'Verb'), ('계속', 'Noun'), ('최신', 'Noun'), ('정보', 'Noun'), ('를', 'Josa'), ('불러오지', 'Verb'), ('못', 'VerbPrefix'), ('했다고만', 'Verb'), ('로딩', 'Noun'), ('반복', 'Noun'), ('.', 'Punctuation'), ('로딩', 'Noun'), ('이미지', 'Noun'), ('는', 'Josa'), ('깨져서', 'Verb'), ('나오고', 'Verb'), ('안정', 'Noun'), ('적', 'Suffix'), ('인', 'Josa'), ('네트워크', 'Noun'), ('상황', 'Noun'), ('하', 'Noun'), ('에서', 'Josa'), ('새로고침', 'Noun'), ('을', 'Josa'), ('눌러도', 'Verb'), ('무한', 'Noun'), ('로딩', 'Noun'), ('이고', 'Josa'), ('심지어', 'Noun'), ('지금', 'Noun'), ('진행중', 'Noun'), ('인', 'Josa'), ('주', 'Modifier'), ('문', 'Modifier'), ('내', 'Modifier'), ('역', 'Noun'), ('정보', 'Noun'), ('조차', 'Josa'), ('정확하지', 'Adjective'), ('않음', 'Verb'), ('.', 'Punctuation'), ('코로나', 'Noun'), ('때문', 'Noun'), ('에', 'Josa'), ('서버', 'Noun'), ('가', 'Josa'), ('불안정한', 'Adjective'), ('건지', 'Verb'), ('뭔', 'Noun'), ('지는', 'Josa'), ('모르겠으나', 'Verb'), ('결국', 'Adverb'), ('엔', 'Josa'), ('취소', 'Noun'), ('못', 'Noun'), ('하고', 'Josa'), ('꼼짝', 'Noun'), ('없이', 'Adverb'), ('기다려', 'Verb'), ('먹게', 'Verb'), ('됐네요', 'Verb'), ('.', 'Punctuation')]\n",
      "1번째 형태소 분석기 결과:\n",
      "\t[('음식', 'Noun'), ('하나', 'Noun'), ('시키는데', 'Verb'), ('우리나라', 'Noun'), ('앱', 'Noun'), ('들', 'Suffix'), ('은', 'Josa'), ('1', 'Number'), (')', 'Punctuation'), ('국내', 'Noun'), ('번호', 'Noun'), ('필요함', 'Adjective'), ('.', 'Punctuation'), ('번호', 'Noun'), ('인증', 'Noun'), ('필수', 'Noun'), ('2', 'Number'), (')', 'Punctuation'), ('카드', 'Noun'), ('결제', 'Noun'), ('선택', 'Noun'), ('시', 'Noun'), ('또', 'Noun'), ('다른', 'Noun'), ('은행', 'Noun'), ('앱', 'Noun'), ('을', 'Josa'), ('깔고', 'Verb'), ('인증', 'Noun'), ('을', 'Josa'), ('한', 'Verb'), ('3', 'Number'), ('번', 'Noun'), ('정도', 'Noun'), ('더', 'Noun'), ('해야', 'Verb'), ('함', 'Noun'), ('...', 'Punctuation'), ('해외', 'Noun'), ('카드', 'Noun'), ('로', 'Josa'), ('결제', 'Noun'), ('수단', 'Noun'), ('은', 'Josa'), ('아예', 'Noun'), ('없고', 'Adjective'), ('왜', 'Noun'), ('현금', 'Noun'), ('결제', 'Noun'), ('옵션', 'Noun'), ('도', 'Josa'), ('없나요', 'Adjective'), ('...', 'Punctuation'), ('음식', 'Noun'), ('하나', 'Noun'), ('시켜', 'Verb'), ('먹는데', 'Verb'), ('이렇게', 'Adverb'), ('복잡한', 'Adjective'), ('나라', 'Noun'), ('우리나라', 'Noun'), ('밖', 'Noun'), ('에', 'Josa'), ('없습니다', 'Adjective'), ('IT', 'Alpha'), ('강국', 'Noun'), ('은', 'Josa'), ('무슨', 'Noun'), ('...', 'Punctuation'), ('왜', 'Noun'), ('핸드폰', 'Noun'), ('번호', 'Noun'), ('인증', 'Noun'), (',', 'Punctuation'), ('카드', 'Noun'), ('인증', 'Noun'), ('등', 'Noun'), ('불편하게', 'Adjective'), ('스탭', 'Noun'), ('이', 'Josa'), ('많나요', 'Adjective'), ('앱', 'Noun'), ('사용', 'Noun'), ('중', 'Suffix'), ('에도', 'Josa'), ('UI', 'Alpha'), ('/', 'Punctuation'), ('UX', 'Alpha'), (',', 'Punctuation'), ('front', 'Alpha'), ('-', 'Punctuation'), ('end', 'Alpha'), ('쪽', 'Noun'), ('으로도', 'Josa'), ('다', 'Adverb'), ('너무', 'Adverb'), ('짜증나고', 'Adjective'), ('결국', 'Adverb'), ('저녁', 'Noun'), ('도', 'Josa'), ('못', 'VerbPrefix'), ('시켜', 'Verb'), ('먹음', 'Noun'), ('하', 'Exclamation'), ('...', 'Punctuation'), ('외국', 'Noun'), ('거주', 'Noun'), ('자', 'Suffix'), ('는', 'Josa'), ('방법', 'Noun'), ('이', 'Josa'), ('없네요', 'Adjective'), ('왜', 'Noun'), ('해외', 'Noun'), ('카드', 'Noun'), ('는', 'Josa'), ('결제', 'Noun'), ('가', 'Josa'), ('안되나요', 'Adjective'), ('....', 'Punctuation')]\n",
      "2번째 형태소 분석기 결과:\n",
      "\t[('왜', 'Noun'), ('이렇게', 'Adverb'), ('업데이트', 'Noun'), ('할', 'Verb'), ('때', 'Noun'), ('마다', 'Josa'), ('사용', 'Noun'), ('하기', 'Verb'), ('점점', 'Noun'), ('불편하게', 'Adjective'), ('바뀌는지', 'Verb'), ('?', 'Punctuation'), ('클릭', 'Noun'), ('한번', 'Noun'), ('더', 'Noun'), ('해야되', 'Verb'), ('고', 'Noun'), ('더', 'Noun'), ('번거롭게', 'Adjective'), ('바뀌네요', 'Verb'), ('.', 'Punctuation'), ('일', 'Modifier'), ('반', 'Modifier'), ('결제', 'Noun'), ('가', 'Josa'), ('기', 'Modifier'), ('본', 'Modifier'), ('임', 'Noun'), ('에도', 'Josa'), ('저쪽', 'Noun'), ('구석', 'Noun'), ('으로', 'Josa'), ('밀려나고', 'Verb'), ('마치', 'Noun'), ('한', 'Determiner'), ('집', 'Noun'), ('배달', 'Noun'), ('을', 'Josa'), ('유도', 'Noun'), ('하', 'Suffix'), ('듯', 'Noun'), ('메인', 'Noun'), ('에', 'Josa'), ('만들어', 'Verb'), ('놔서', 'Verb'), ('잘못', 'Noun'), ('클릭', 'Noun'), ('하면', 'Verb'), ('자꾸', 'Noun'), ('나가서', 'Verb'), ('일', 'Modifier'), ('반', 'Modifier'), ('결제', 'Noun'), ('를', 'Josa'), ('다시', 'Noun'), ('클릭', 'Noun'), ('해야하게', 'Verb'), ('만들어놓더니', 'Verb'), ('.', 'Punctuation'), ('이', 'Determiner'), ('젠', 'Noun'), ('결제', 'Noun'), ('창', 'Noun'), ('에', 'Josa'), ('요청', 'Noun'), ('사항', 'Noun'), ('이나', 'Josa'), ('리뷰', 'Noun'), ('이벤트', 'Noun'), ('할', 'Verb'), ('때', 'Noun'), ('또', 'Noun'), ('클릭', 'Noun'), ('해서', 'Verb'), ('하게', 'Verb'), ('끔', 'Verb'), ('바뀌었네요', 'Verb'), ('.', 'Punctuation'), ('쓸데없는', 'Adjective'), ('짓', 'Noun'), ('정말', 'Noun'), ('잘', 'VerbPrefix'), ('하네요', 'Verb'), ('배민', 'Noun'), ('.', 'Punctuation')]\n",
      "3번째 형태소 분석기 결과:\n",
      "\t[('배달', 'Noun'), ('의', 'Josa'), ('민족', 'Noun'), ('앱', 'Noun'), ('자체', 'Noun'), ('는', 'Josa'), ('만족하나', 'Adjective'), (',', 'Punctuation'), ('식사', 'Noun'), ('후', 'Noun'), ('맛', 'Noun'), ('리뷰', 'Noun'), ('평점', 'Noun'), ('자체', 'Noun'), ('는', 'Josa'), ('클린', 'Noun'), ('하게', 'Verb'), ('이뤄지진', 'Verb'), ('못', 'VerbPrefix'), ('하는것', 'Verb'), ('같습니다', 'Adjective'), ('..', 'Punctuation'), ('식당', 'Noun'), ('입장', 'Noun'), (',', 'Punctuation'), ('그러니까', 'Adverb'), ('업주', 'Noun'), ('입장', 'Noun'), ('에서는', 'Josa'), ('높은', 'Adjective'), ('별', 'Modifier'), ('점', 'Noun'), ('으로', 'Josa'), ('인한', 'Adjective'), ('주', 'Modifier'), ('문건', 'Noun'), ('수', 'Noun'), ('를', 'Josa'), ('기대하려', 'Adjective'), ('하겠지만', 'Verb'), (',', 'Punctuation'), ('주문', 'Noun'), ('자', 'Suffix'), ('입장', 'Noun'), ('에서는', 'Josa'), ('맛', 'Noun'), ('이', 'Josa'), ('없는', 'Adjective'), ('식당', 'Noun'), ('들', 'Suffix'), ('도', 'Josa'), ('대', 'Modifier'), ('체적', 'Noun'), ('으로', 'Josa'), ('4.8', 'Number'), ('점', 'Noun'), ('이', 'Josa'), ('넘어', 'Verb'), ('정확한', 'Adjective'), ('맛집', 'Noun'), ('탐색', 'Noun'), ('이', 'Josa'), ('어렵다는', 'Adjective'), ('점', 'Noun'), ('에서', 'Josa'), ('앱', 'Noun'), ('자체', 'Noun'), ('에', 'Josa'), ('대한', 'Noun'), ('평점', 'Noun'), ('은', 'Josa'), ('3', 'Number'), ('점', 'Noun'), ('으로', 'Josa'), ('남겨', 'Verb'), ('놓습니다', 'Verb'), ('..', 'Punctuation'), ('즐거운', 'Adjective'), ('식사', 'Noun'), ('를', 'Josa'), ('항상', 'Noun'), ('추구', 'Noun'), ('하고', 'Josa'), ('기대하나', 'Adjective'), ('평점', 'Noun'), ('에', 'Josa'), ('속', 'Noun'), ('아', 'Josa'), ('그러지', 'Adjective'), ('못', 'VerbPrefix'), ('해', 'Verb'), ('이를', 'Verb'), ('애석하게', 'Adjective'), ('생각', 'Noun'), ('하고', 'Josa'), ('있습니다', 'Adjective'), ('!', 'Punctuation'), ('수고', 'Noun'), ('하시는', 'Verb'), ('어플리케이션', 'Noun'), ('개발자', 'Noun'), ('여러분', 'Noun'), ('들', 'Suffix'), ('좋은', 'Adjective'), ('아이디어', 'Noun'), ('로', 'Josa'), ('참신한', 'Adjective'), ('방법', 'Noun'), ('을', 'Josa'), ('구', 'Modifier'), ('안해', 'Noun'), ('내시길', 'Verb'), ('바라며', 'Verb'), ('이만', 'Adverb'), ('줄입니다', 'Verb'), ('.!', 'Punctuation')]\n",
      "4번째 형태소 분석기 결과:\n",
      "\t[('장바구니', 'Noun'), ('가', 'Josa'), ('너무', 'Adverb'), ('불편합니다', 'Adjective'), ('.', 'Punctuation'), ('비', 'Noun'), ('마트', 'Noun'), ('에서', 'Josa'), ('여러가지', 'Noun'), ('를', 'Josa'), ('담고', 'Verb'), ('스', 'Noun'), ('크롤', 'Noun'), ('올리고', 'Verb'), ('내릴', 'Verb'), ('때', 'Noun'), ('살짝', 'Noun'), ('대각선', 'Noun'), ('으로', 'Josa'), ('움직이면', 'Verb'), ('배달', 'Noun'), ('포장', 'Noun'), ('대', 'Modifier'), ('용량', 'Noun'), ('특', 'Noun'), ('가', 'Josa'), ('등', 'Noun'), ('좌우', 'Noun'), ('로', 'Josa'), ('넘어가', 'Verb'), ('버리고', 'Verb'), ('비', 'Noun'), ('마트', 'Noun'), ('항목', 'Noun'), ('으로', 'Josa'), ('다시', 'Noun'), ('넘어오면', 'Verb'), ('체크', 'Noun'), ('해', 'Verb'), ('둔', 'Verb'), ('상태', 'Noun'), ('가', 'Josa'), ('아닌', 'Adjective'), ('리', 'Noun'), ('로딩', 'Noun'), ('되어', 'Verb'), ('맨', 'Modifier'), ('위로', 'Noun'), ('올라가고', 'Verb'), ('전체', 'Noun'), ('선택', 'Noun'), ('이', 'Josa'), ('됩니다', 'Verb'), ('.', 'Punctuation'), ('너무', 'Adverb'), ('예민해서', 'Adjective'), ('살짝', 'Noun'), ('만', 'Josa'), ('직선', 'Noun'), ('에서', 'Josa'), ('벗어나도', 'Verb'), ('옆', 'Noun'), ('항목', 'Noun'), ('으로', 'Josa'), ('가는데', 'Verb'), ('쓸', 'Verb'), ('때', 'Noun'), ('마다', 'Josa'), ('짜증나더라고요', 'Adjective'), ('.', 'Punctuation'), ('위', 'Noun'), ('에', 'Josa'), ('배달', 'Noun'), ('포장', 'Noun'), ('비', 'Noun'), ('마트', 'Noun'), ('대', 'Modifier'), ('용량', 'Noun'), ('특', 'Noun'), ('가', 'Josa'), ('...', 'Punctuation'), ('등', 'Noun'), ('항목', 'Noun'), ('을', 'Josa'), ('눌러서', 'Verb'), ('선택', 'Noun'), ('해도', 'Verb'), ('될듯', 'Verb'), ('한', 'Determiner'), ('데', 'Noun'), ('화면', 'Noun'), ('을', 'Josa'), ('옆', 'Noun'), ('으로', 'Josa'), ('넘길', 'Verb'), ('필요', 'Noun'), ('까진', 'Josa'), ('없는듯', 'Adjective'), ('합니다', 'Verb'), ('.', 'Punctuation'), ('거의', 'Noun'), ('매일', 'Noun'), ('배민', 'Noun'), ('어플', 'Noun'), ('사용', 'Noun'), ('하면서', 'Verb'), ('느낀', 'Verb'), ('점', 'Noun'), ('입니다', 'Adjective'), ('.', 'Punctuation')]\n"
     ]
    }
   ],
   "source": [
    "from konlpy.tag import Okt # Okt, Kkma\n",
    "\n",
    "okt = Okt()\n",
    "\n",
    "for i, review_a in enumerate(review5.tolist()):\n",
    "    # print(review_a)\n",
    "    result = okt.pos(review_a)\n",
    "    print(f\"{i}번째 형태소 분석기 결과:\\n\\t{result}\")"
   ]
  },
  {
   "cell_type": "markdown",
   "id": "d5b9b4b9",
   "metadata": {},
   "source": []
  }
 ],
 "metadata": {
  "kernelspec": {
   "display_name": "JAVA",
   "language": "python",
   "name": "python3"
  },
  "language_info": {
   "codemirror_mode": {
    "name": "ipython",
    "version": 3
   },
   "file_extension": ".py",
   "mimetype": "text/x-python",
   "name": "python",
   "nbconvert_exporter": "python",
   "pygments_lexer": "ipython3",
   "version": "3.13.5"
  }
 },
 "nbformat": 4,
 "nbformat_minor": 5
}
