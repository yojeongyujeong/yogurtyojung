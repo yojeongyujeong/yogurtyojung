{
 "cells": [
  {
   "cell_type": "markdown",
   "id": "fb5226ad",
   "metadata": {},
   "source": [
    "# Kiwi 형태소 분석기 체험"
   ]
  },
  {
   "cell_type": "code",
   "execution_count": null,
   "id": "6c2d8574",
   "metadata": {},
   "outputs": [],
   "source": []
  },
  {
   "cell_type": "code",
   "execution_count": 12,
   "id": "87f6e5dc",
   "metadata": {},
   "outputs": [
    {
     "name": "stdout",
     "output_type": "stream",
     "text": [
      "-65.28563690185547\t[Token(form='분명', tag='MAG', start=0, len=2), Token(form='배달', tag='NNG', start=3, len=2), Token(form='이', tag='JKS', start=5, len=1), Token(form='완료', tag='NNG', start=7, len=2), Token(form='되', tag='XSV', start=9, len=1), Token(form='었', tag='EP', start=10, len=1), Token(form='는데', tag='EC', start=11, len=2), Token(form='나', tag='NP', start=14, len=1), Token(form='는', tag='JX', start=15, len=1), Token(form='받', tag='VV-R', start=17, len=1), Token(form='지', tag='EC', start=18, len=1), Token(form='않', tag='VX', start=20, len=1), Token(form='었', tag='EP', start=21, len=1), Token(form='어', tag='EF', start=22, len=1)]\n",
      "-69.0050277709961\t[Token(form='분명', tag='NNG', start=0, len=2), Token(form='배달', tag='NNG', start=3, len=2), Token(form='이', tag='JKS', start=5, len=1), Token(form='완료', tag='NNG', start=7, len=2), Token(form='되', tag='XSV', start=9, len=1), Token(form='었', tag='EP', start=10, len=1), Token(form='는데', tag='EC', start=11, len=2), Token(form='나', tag='NP', start=14, len=1), Token(form='는', tag='JX', start=15, len=1), Token(form='받', tag='VV-R', start=17, len=1), Token(form='지', tag='EC', start=18, len=1), Token(form='않', tag='VX', start=20, len=1), Token(form='었', tag='EP', start=21, len=1), Token(form='어', tag='EF', start=22, len=1)]\n",
      "-69.7073745727539\t[Token(form='분명', tag='MAG', start=0, len=2), Token(form='배달', tag='NNG', start=3, len=2), Token(form='이', tag='JKS', start=5, len=1), Token(form='완료', tag='NNG', start=7, len=2), Token(form='되', tag='XSV', start=9, len=1), Token(form='었', tag='EP', start=10, len=1), Token(form='는데', tag='EC', start=11, len=2), Token(form='나', tag='NP', start=14, len=1), Token(form='는', tag='JX', start=15, len=1), Token(form='받', tag='VV-R', start=17, len=1), Token(form='지', tag='EC', start=18, len=1), Token(form='않', tag='VX', start=20, len=1), Token(form='었', tag='EP', start=21, len=1), Token(form='어', tag='EC', start=22, len=1)]\n",
      "-73.4267578125\t[Token(form='분명', tag='NNG', start=0, len=2), Token(form='배달', tag='NNG', start=3, len=2), Token(form='이', tag='JKS', start=5, len=1), Token(form='완료', tag='NNG', start=7, len=2), Token(form='되', tag='XSV', start=9, len=1), Token(form='었', tag='EP', start=10, len=1), Token(form='는데', tag='EC', start=11, len=2), Token(form='나', tag='NP', start=14, len=1), Token(form='는', tag='JX', start=15, len=1), Token(form='받', tag='VV-R', start=17, len=1), Token(form='지', tag='EC', start=18, len=1), Token(form='않', tag='VX', start=20, len=1), Token(form='었', tag='EP', start=21, len=1), Token(form='어', tag='EC', start=22, len=1)]\n",
      "-73.45321655273438\t[Token(form='분명', tag='XR', start=0, len=2), Token(form='배달', tag='NNG', start=3, len=2), Token(form='이', tag='JKS', start=5, len=1), Token(form='완료', tag='NNG', start=7, len=2), Token(form='되', tag='XSV', start=9, len=1), Token(form='었', tag='EP', start=10, len=1), Token(form='는데', tag='EC', start=11, len=2), Token(form='나', tag='NP', start=14, len=1), Token(form='는', tag='JX', start=15, len=1), Token(form='받', tag='VV-R', start=17, len=1), Token(form='지', tag='EC', start=18, len=1), Token(form='않', tag='VX', start=20, len=1), Token(form='었', tag='EP', start=21, len=1), Token(form='어', tag='EF', start=22, len=1)]\n"
     ]
    }
   ],
   "source": [
    "from kiwipiepy import Kiwi\n",
    "\n",
    "kiwi = Kiwi()\n",
    "\n",
    "text = \"분명 배달이 완료되었는데 나는 받지 않았어\"\n",
    "\n",
    "for res, score in kiwi.analyze(text, top_n=5):\n",
    "    print(score, res, sep=\"\\t\")"
   ]
  },
  {
   "cell_type": "code",
   "execution_count": 13,
   "id": "1c3fd2b4",
   "metadata": {},
   "outputs": [
    {
     "name": "stdout",
     "output_type": "stream",
     "text": [
      "[Token(form='분명', tag='MAG', start=0, len=2), Token(form='배달', tag='NNG', start=3, len=2), Token(form='이', tag='JKS', start=5, len=1), Token(form='완료', tag='NNG', start=7, len=2), Token(form='되', tag='XSV', start=9, len=1), Token(form='었', tag='EP', start=10, len=1), Token(form='는데', tag='EC', start=11, len=2), Token(form='나', tag='NP', start=14, len=1), Token(form='는', tag='JX', start=15, len=1), Token(form='받', tag='VV-R', start=17, len=1), Token(form='지', tag='EC', start=18, len=1), Token(form='않', tag='VX', start=20, len=1), Token(form='었', tag='EP', start=21, len=1), Token(form='어', tag='EF', start=22, len=1)]\n"
     ]
    }
   ],
   "source": [
    "text = \"분명 배달이 완료되었는데 나는 받지 않았어\"\n",
    "\n",
    "kiwi = Kiwi()\n",
    "result = kiwi.tokenize(text)\n",
    "print(result)"
   ]
  },
  {
   "cell_type": "code",
   "execution_count": 14,
   "id": "62843a03",
   "metadata": {},
   "outputs": [
    {
     "name": "stdout",
     "output_type": "stream",
     "text": [
      "배달 NNG\n",
      "완료 NNG\n",
      "나 NP\n"
     ]
    }
   ],
   "source": [
    "# 명사만 추출\n",
    "for res in result:\n",
    "    if res.tag[0] == \"N\":\n",
    "        print(res.form, res.tag)"
   ]
  },
  {
   "cell_type": "markdown",
   "id": "e39fcddc",
   "metadata": {},
   "source": [
    "# 장바구니 분석"
   ]
  },
  {
   "cell_type": "code",
   "execution_count": 15,
   "id": "9ca5bfbb",
   "metadata": {},
   "outputs": [
    {
     "data": {
      "text/html": [
       "<div>\n",
       "<style scoped>\n",
       "    .dataframe tbody tr th:only-of-type {\n",
       "        vertical-align: middle;\n",
       "    }\n",
       "\n",
       "    .dataframe tbody tr th {\n",
       "        vertical-align: top;\n",
       "    }\n",
       "\n",
       "    .dataframe thead th {\n",
       "        text-align: right;\n",
       "    }\n",
       "</style>\n",
       "<table border=\"1\" class=\"dataframe\">\n",
       "  <thead>\n",
       "    <tr style=\"text-align: right;\">\n",
       "      <th></th>\n",
       "      <th>댓글</th>\n",
       "    </tr>\n",
       "  </thead>\n",
       "  <tbody>\n",
       "    <tr>\n",
       "      <th>0</th>\n",
       "      <td>80분 걸린다길래 주문취소 하려고 주문내역에 들어가면 계속 최신 정보를 불러오지 못...</td>\n",
       "    </tr>\n",
       "    <tr>\n",
       "      <th>1</th>\n",
       "      <td>음식 하나 시키는데 우리나라 앱들은 1) 국내 번호 필요함. 번호 인증 필수 2) ...</td>\n",
       "    </tr>\n",
       "    <tr>\n",
       "      <th>2</th>\n",
       "      <td>왜이렇게 업데이트 할때마다 사용하기 점점 불편하게 바뀌는지? 클릭한번 더 해야되고 ...</td>\n",
       "    </tr>\n",
       "    <tr>\n",
       "      <th>3</th>\n",
       "      <td>배달의 민족앱자체는 만족하나, 식사후 맛 리뷰 평점 자체는 클린하게 이뤄지진 못하는...</td>\n",
       "    </tr>\n",
       "    <tr>\n",
       "      <th>4</th>\n",
       "      <td>장바구니가 너무 불편합니다. 비마트에서 여러가지를 담고 스크롤 올리고 내릴때 살짝 ...</td>\n",
       "    </tr>\n",
       "  </tbody>\n",
       "</table>\n",
       "</div>"
      ],
      "text/plain": [
       "                                                  댓글\n",
       "0  80분 걸린다길래 주문취소 하려고 주문내역에 들어가면 계속 최신 정보를 불러오지 못...\n",
       "1  음식 하나 시키는데 우리나라 앱들은 1) 국내 번호 필요함. 번호 인증 필수 2) ...\n",
       "2  왜이렇게 업데이트 할때마다 사용하기 점점 불편하게 바뀌는지? 클릭한번 더 해야되고 ...\n",
       "3  배달의 민족앱자체는 만족하나, 식사후 맛 리뷰 평점 자체는 클린하게 이뤄지진 못하는...\n",
       "4  장바구니가 너무 불편합니다. 비마트에서 여러가지를 담고 스크롤 올리고 내릴때 살짝 ..."
      ]
     },
     "execution_count": 15,
     "metadata": {},
     "output_type": "execute_result"
    }
   ],
   "source": [
    "import pandas as pd\n",
    "data = pd.read_csv(\"배달의민족댓글2.csv\", index_col=0)\n",
    "data.head()"
   ]
  },
  {
   "cell_type": "code",
   "execution_count": 16,
   "id": "0c341e8c",
   "metadata": {},
   "outputs": [],
   "source": [
    "# 빈 리스트 만들기 main_list\n",
    "# 댓글을 반복문으로 하나씩 추출\n",
    "# 전처리 과정 그대로\n",
    "# 댓글 형태소 분석\n",
    "# 빈 리스트 만들기 sub_list\n",
    "# 반복문으로 형태소 명사 단어들 담기\n",
    "# sub_list에 명사 단어들 담기\n",
    "# main_list에 sub_list 담기"
   ]
  },
  {
   "cell_type": "code",
   "execution_count": 17,
   "id": "fe5425c9",
   "metadata": {},
   "outputs": [],
   "source": [
    "# main_list는 [[리뷰1에 대한 명사 단어들], [리뷰2에 대한 명사 단어들], .....] 형식으로 저장되어야 한다."
   ]
  },
  {
   "cell_type": "code",
   "execution_count": null,
   "id": "60b8e02a",
   "metadata": {},
   "outputs": [
    {
     "name": "stderr",
     "output_type": "stream",
     "text": [
      "<>:16: SyntaxWarning: invalid escape sequence '\\s'\n",
      "<>:16: SyntaxWarning: invalid escape sequence '\\s'\n",
      "C:\\Users\\user\\AppData\\Local\\Temp\\ipykernel_24840\\519115391.py:16: SyntaxWarning: invalid escape sequence '\\s'\n",
      "  cleaned = re.sub(\"[^가-힣0-9a-zA-Z\\s]\", \"\", str(comment))\n"
     ]
    },
    {
     "name": "stdout",
     "output_type": "stream",
     "text": [
      "[['분', '주문', '취소', '주문', '내역', '최신', '정보', '로딩', '반복', '로딩', '이미지', '안정', '네트워크', '상황', '하', '무한', '로딩', '진행', '중', '주문', '내역', '정보', '정확', '코로나', '때문', '서버', '안정', '거', '결국', '취소'], ['음식', '우리나라', '앱', '국내', '번호', '필요', '번호', '인증', '필수', '2', '카드', '결제', '선택', '시', '은행', '앱', '인증', '번', '정도', '해외', '카드', '결제', '수단', '현금', '결제', '옵션', '음식', '하나', '나라', '나라', '강국', '핸드폰', '번호', '인증', '카드', '인증', '등', '불편', '스탭', '앱', '사용', '중', '쪽', '짜증', '저녁', '외국', '거주자', '방법', '해외', '카드', '결제'], ['업데이트', '때', '사용', '불편', '클릭', '번', '일반', '결제', '기본', '쪽', '구석', '집', '배달', '유도', '메인', '클릭', '일반', '결제', '클릭', '이제', '결제', '창', '요청', '사항', '리뷰', '이벤트', '때', '클릭', '짓', '배민'], ['배달', '민족', '앱', '자체', '만족', '식사', '후', '맛', '리뷰', '평점', '자체', '클린', '것', '식당', '입장', '업주', '입장', '별점', '주문', '건수', '기대', '주문자', '입장', '맛', '식당', '대체', '점', '정확', '맛', '집', '탐색', '점', '앱', '자체', '평점', '점', '식사', '추구', '기대', '평점', '애석', '생각', '수고', '어플리케이션', '개발자', '아이디어', '방법', '구'], ['장바구니', '불편', '비', '마트', '가지', '스크롤', '때', '대각선', '배달', '포장', '용량', '특가', '등', '좌우', '비', '마트', '항목', '체크', '상태', '리', '로딩', '위', '전체', '선택', '직선', '옆', '항목', '데', '때', '짜증', '위', '배달', '포장', '비', '마트', '용량', '특가', '등', '항목', '선택', '듯', '화면', '옆', '필요', '듯', '배', '민', '어플', '사용', '점']]\n"
     ]
    }
   ],
   "source": [
    "import pandas as pd\n",
    "from kiwipiepy import Kiwi\n",
    "import re\n",
    "\n",
    "# CSV 파일 불러오기\n",
    "data = pd.read_csv(\"배달의민족댓글2.csv\", index_col=0)\n",
    "\n",
    "# Kiwi 형태소 분석기 초기화\n",
    "kiwi = Kiwi()\n",
    "\n",
    "# 빈 리스트 만들기 main_list\n",
    "# 결과 저장 리스트 \n",
    "main_list = []\n",
    "\n",
    "# 댓글을 반복문으로 하나씩 추출\n",
    "for comment in data[\"댓글\"]:\n",
    "    # 전처리: 특수문자 제거\n",
    "    cleaned = re.sub(\"[^가-힣0-9a-zA-Z\\s]\", \"\", str(comment))\n",
    "    \n",
    "    # 형태소 분석 (가장 높은 점수 결과 하나만 사용)\n",
    "    tokens = kiwi.analyze(cleaned)[0][0]\n",
    "\n",
    "    # 명사만 추출\n",
    "    sub_list = [token.form for token in tokens if token.tag.startswith(\"NN\")]\n",
    "\n",
    "    # 결과 저장\n",
    "    main_list.append(sub_list)\n",
    "\n",
    "# 확인\n",
    "print(main_list[:5])"
   ]
  }
 ],
 "metadata": {
  "kernelspec": {
   "display_name": "JAVA",
   "language": "python",
   "name": "python3"
  },
  "language_info": {
   "codemirror_mode": {
    "name": "ipython",
    "version": 3
   },
   "file_extension": ".py",
   "mimetype": "text/x-python",
   "name": "python",
   "nbconvert_exporter": "python",
   "pygments_lexer": "ipython3",
   "version": "3.13.5"
  }
 },
 "nbformat": 4,
 "nbformat_minor": 5
}
