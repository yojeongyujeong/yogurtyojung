{
 "cells": [
  {
   "cell_type": "markdown",
   "id": "fb5226ad",
   "metadata": {},
   "source": [
    "# Kiwi 형태소 분석기 체험"
   ]
  },
  {
   "cell_type": "code",
   "execution_count": 23,
   "id": "87f6e5dc",
   "metadata": {},
   "outputs": [
    {
     "name": "stdout",
     "output_type": "stream",
     "text": [
      "-65.28563690185547\t[('장바구니', 'Noun'), ('가', 'Josa'), ('너무', 'Adverb'), ('불편합니다', 'Adjective'), ('.', 'Punctuation'), ('비', 'Noun'), ('마트', 'Noun'), ('에서', 'Josa'), ('여러가지', 'Noun'), ('를', 'Josa'), ('담고', 'Verb'), ('스', 'Noun'), ('크롤', 'Noun'), ('올리고', 'Verb'), ('내릴', 'Verb'), ('때', 'Noun'), ('살짝', 'Noun'), ('대각선', 'Noun'), ('으로', 'Josa'), ('움직이면', 'Verb'), ('배달', 'Noun'), ('포장', 'Noun'), ('대', 'Modifier'), ('용량', 'Noun'), ('특', 'Noun'), ('가', 'Josa'), ('등', 'Noun'), ('좌우', 'Noun'), ('로', 'Josa'), ('넘어가', 'Verb'), ('버리고', 'Verb'), ('비', 'Noun'), ('마트', 'Noun'), ('항목', 'Noun'), ('으로', 'Josa'), ('다시', 'Noun'), ('넘어오면', 'Verb'), ('체크', 'Noun'), ('해', 'Verb'), ('둔', 'Verb'), ('상태', 'Noun'), ('가', 'Josa'), ('아닌', 'Adjective'), ('리', 'Noun'), ('로딩', 'Noun'), ('되어', 'Verb'), ('맨', 'Modifier'), ('위로', 'Noun'), ('올라가고', 'Verb'), ('전체', 'Noun'), ('선택', 'Noun'), ('이', 'Josa'), ('됩니다', 'Verb'), ('.', 'Punctuation'), ('너무', 'Adverb'), ('예민해서', 'Adjective'), ('살짝', 'Noun'), ('만', 'Josa'), ('직선', 'Noun'), ('에서', 'Josa'), ('벗어나도', 'Verb'), ('옆', 'Noun'), ('항목', 'Noun'), ('으로', 'Josa'), ('가는데', 'Verb'), ('쓸', 'Verb'), ('때', 'Noun'), ('마다', 'Josa'), ('짜증나더라고요', 'Adjective'), ('.', 'Punctuation'), ('위', 'Noun'), ('에', 'Josa'), ('배달', 'Noun'), ('포장', 'Noun'), ('비', 'Noun'), ('마트', 'Noun'), ('대', 'Modifier'), ('용량', 'Noun'), ('특', 'Noun'), ('가', 'Josa'), ('...', 'Punctuation'), ('등', 'Noun'), ('항목', 'Noun'), ('을', 'Josa'), ('눌러서', 'Verb'), ('선택', 'Noun'), ('해도', 'Verb'), ('될듯', 'Verb'), ('한', 'Determiner'), ('데', 'Noun'), ('화면', 'Noun'), ('을', 'Josa'), ('옆', 'Noun'), ('으로', 'Josa'), ('넘길', 'Verb'), ('필요', 'Noun'), ('까진', 'Josa'), ('없는듯', 'Adjective'), ('합니다', 'Verb'), ('.', 'Punctuation'), ('거의', 'Noun'), ('매일', 'Noun'), ('배민', 'Noun'), ('어플', 'Noun'), ('사용', 'Noun'), ('하면서', 'Verb'), ('느낀', 'Verb'), ('점', 'Noun'), ('입니다', 'Adjective'), ('.', 'Punctuation')]\n",
      "-69.0050277709961\t[('장바구니', 'Noun'), ('가', 'Josa'), ('너무', 'Adverb'), ('불편합니다', 'Adjective'), ('.', 'Punctuation'), ('비', 'Noun'), ('마트', 'Noun'), ('에서', 'Josa'), ('여러가지', 'Noun'), ('를', 'Josa'), ('담고', 'Verb'), ('스', 'Noun'), ('크롤', 'Noun'), ('올리고', 'Verb'), ('내릴', 'Verb'), ('때', 'Noun'), ('살짝', 'Noun'), ('대각선', 'Noun'), ('으로', 'Josa'), ('움직이면', 'Verb'), ('배달', 'Noun'), ('포장', 'Noun'), ('대', 'Modifier'), ('용량', 'Noun'), ('특', 'Noun'), ('가', 'Josa'), ('등', 'Noun'), ('좌우', 'Noun'), ('로', 'Josa'), ('넘어가', 'Verb'), ('버리고', 'Verb'), ('비', 'Noun'), ('마트', 'Noun'), ('항목', 'Noun'), ('으로', 'Josa'), ('다시', 'Noun'), ('넘어오면', 'Verb'), ('체크', 'Noun'), ('해', 'Verb'), ('둔', 'Verb'), ('상태', 'Noun'), ('가', 'Josa'), ('아닌', 'Adjective'), ('리', 'Noun'), ('로딩', 'Noun'), ('되어', 'Verb'), ('맨', 'Modifier'), ('위로', 'Noun'), ('올라가고', 'Verb'), ('전체', 'Noun'), ('선택', 'Noun'), ('이', 'Josa'), ('됩니다', 'Verb'), ('.', 'Punctuation'), ('너무', 'Adverb'), ('예민해서', 'Adjective'), ('살짝', 'Noun'), ('만', 'Josa'), ('직선', 'Noun'), ('에서', 'Josa'), ('벗어나도', 'Verb'), ('옆', 'Noun'), ('항목', 'Noun'), ('으로', 'Josa'), ('가는데', 'Verb'), ('쓸', 'Verb'), ('때', 'Noun'), ('마다', 'Josa'), ('짜증나더라고요', 'Adjective'), ('.', 'Punctuation'), ('위', 'Noun'), ('에', 'Josa'), ('배달', 'Noun'), ('포장', 'Noun'), ('비', 'Noun'), ('마트', 'Noun'), ('대', 'Modifier'), ('용량', 'Noun'), ('특', 'Noun'), ('가', 'Josa'), ('...', 'Punctuation'), ('등', 'Noun'), ('항목', 'Noun'), ('을', 'Josa'), ('눌러서', 'Verb'), ('선택', 'Noun'), ('해도', 'Verb'), ('될듯', 'Verb'), ('한', 'Determiner'), ('데', 'Noun'), ('화면', 'Noun'), ('을', 'Josa'), ('옆', 'Noun'), ('으로', 'Josa'), ('넘길', 'Verb'), ('필요', 'Noun'), ('까진', 'Josa'), ('없는듯', 'Adjective'), ('합니다', 'Verb'), ('.', 'Punctuation'), ('거의', 'Noun'), ('매일', 'Noun'), ('배민', 'Noun'), ('어플', 'Noun'), ('사용', 'Noun'), ('하면서', 'Verb'), ('느낀', 'Verb'), ('점', 'Noun'), ('입니다', 'Adjective'), ('.', 'Punctuation')]\n",
      "-69.7073745727539\t[('장바구니', 'Noun'), ('가', 'Josa'), ('너무', 'Adverb'), ('불편합니다', 'Adjective'), ('.', 'Punctuation'), ('비', 'Noun'), ('마트', 'Noun'), ('에서', 'Josa'), ('여러가지', 'Noun'), ('를', 'Josa'), ('담고', 'Verb'), ('스', 'Noun'), ('크롤', 'Noun'), ('올리고', 'Verb'), ('내릴', 'Verb'), ('때', 'Noun'), ('살짝', 'Noun'), ('대각선', 'Noun'), ('으로', 'Josa'), ('움직이면', 'Verb'), ('배달', 'Noun'), ('포장', 'Noun'), ('대', 'Modifier'), ('용량', 'Noun'), ('특', 'Noun'), ('가', 'Josa'), ('등', 'Noun'), ('좌우', 'Noun'), ('로', 'Josa'), ('넘어가', 'Verb'), ('버리고', 'Verb'), ('비', 'Noun'), ('마트', 'Noun'), ('항목', 'Noun'), ('으로', 'Josa'), ('다시', 'Noun'), ('넘어오면', 'Verb'), ('체크', 'Noun'), ('해', 'Verb'), ('둔', 'Verb'), ('상태', 'Noun'), ('가', 'Josa'), ('아닌', 'Adjective'), ('리', 'Noun'), ('로딩', 'Noun'), ('되어', 'Verb'), ('맨', 'Modifier'), ('위로', 'Noun'), ('올라가고', 'Verb'), ('전체', 'Noun'), ('선택', 'Noun'), ('이', 'Josa'), ('됩니다', 'Verb'), ('.', 'Punctuation'), ('너무', 'Adverb'), ('예민해서', 'Adjective'), ('살짝', 'Noun'), ('만', 'Josa'), ('직선', 'Noun'), ('에서', 'Josa'), ('벗어나도', 'Verb'), ('옆', 'Noun'), ('항목', 'Noun'), ('으로', 'Josa'), ('가는데', 'Verb'), ('쓸', 'Verb'), ('때', 'Noun'), ('마다', 'Josa'), ('짜증나더라고요', 'Adjective'), ('.', 'Punctuation'), ('위', 'Noun'), ('에', 'Josa'), ('배달', 'Noun'), ('포장', 'Noun'), ('비', 'Noun'), ('마트', 'Noun'), ('대', 'Modifier'), ('용량', 'Noun'), ('특', 'Noun'), ('가', 'Josa'), ('...', 'Punctuation'), ('등', 'Noun'), ('항목', 'Noun'), ('을', 'Josa'), ('눌러서', 'Verb'), ('선택', 'Noun'), ('해도', 'Verb'), ('될듯', 'Verb'), ('한', 'Determiner'), ('데', 'Noun'), ('화면', 'Noun'), ('을', 'Josa'), ('옆', 'Noun'), ('으로', 'Josa'), ('넘길', 'Verb'), ('필요', 'Noun'), ('까진', 'Josa'), ('없는듯', 'Adjective'), ('합니다', 'Verb'), ('.', 'Punctuation'), ('거의', 'Noun'), ('매일', 'Noun'), ('배민', 'Noun'), ('어플', 'Noun'), ('사용', 'Noun'), ('하면서', 'Verb'), ('느낀', 'Verb'), ('점', 'Noun'), ('입니다', 'Adjective'), ('.', 'Punctuation')]\n",
      "-73.4267578125\t[('장바구니', 'Noun'), ('가', 'Josa'), ('너무', 'Adverb'), ('불편합니다', 'Adjective'), ('.', 'Punctuation'), ('비', 'Noun'), ('마트', 'Noun'), ('에서', 'Josa'), ('여러가지', 'Noun'), ('를', 'Josa'), ('담고', 'Verb'), ('스', 'Noun'), ('크롤', 'Noun'), ('올리고', 'Verb'), ('내릴', 'Verb'), ('때', 'Noun'), ('살짝', 'Noun'), ('대각선', 'Noun'), ('으로', 'Josa'), ('움직이면', 'Verb'), ('배달', 'Noun'), ('포장', 'Noun'), ('대', 'Modifier'), ('용량', 'Noun'), ('특', 'Noun'), ('가', 'Josa'), ('등', 'Noun'), ('좌우', 'Noun'), ('로', 'Josa'), ('넘어가', 'Verb'), ('버리고', 'Verb'), ('비', 'Noun'), ('마트', 'Noun'), ('항목', 'Noun'), ('으로', 'Josa'), ('다시', 'Noun'), ('넘어오면', 'Verb'), ('체크', 'Noun'), ('해', 'Verb'), ('둔', 'Verb'), ('상태', 'Noun'), ('가', 'Josa'), ('아닌', 'Adjective'), ('리', 'Noun'), ('로딩', 'Noun'), ('되어', 'Verb'), ('맨', 'Modifier'), ('위로', 'Noun'), ('올라가고', 'Verb'), ('전체', 'Noun'), ('선택', 'Noun'), ('이', 'Josa'), ('됩니다', 'Verb'), ('.', 'Punctuation'), ('너무', 'Adverb'), ('예민해서', 'Adjective'), ('살짝', 'Noun'), ('만', 'Josa'), ('직선', 'Noun'), ('에서', 'Josa'), ('벗어나도', 'Verb'), ('옆', 'Noun'), ('항목', 'Noun'), ('으로', 'Josa'), ('가는데', 'Verb'), ('쓸', 'Verb'), ('때', 'Noun'), ('마다', 'Josa'), ('짜증나더라고요', 'Adjective'), ('.', 'Punctuation'), ('위', 'Noun'), ('에', 'Josa'), ('배달', 'Noun'), ('포장', 'Noun'), ('비', 'Noun'), ('마트', 'Noun'), ('대', 'Modifier'), ('용량', 'Noun'), ('특', 'Noun'), ('가', 'Josa'), ('...', 'Punctuation'), ('등', 'Noun'), ('항목', 'Noun'), ('을', 'Josa'), ('눌러서', 'Verb'), ('선택', 'Noun'), ('해도', 'Verb'), ('될듯', 'Verb'), ('한', 'Determiner'), ('데', 'Noun'), ('화면', 'Noun'), ('을', 'Josa'), ('옆', 'Noun'), ('으로', 'Josa'), ('넘길', 'Verb'), ('필요', 'Noun'), ('까진', 'Josa'), ('없는듯', 'Adjective'), ('합니다', 'Verb'), ('.', 'Punctuation'), ('거의', 'Noun'), ('매일', 'Noun'), ('배민', 'Noun'), ('어플', 'Noun'), ('사용', 'Noun'), ('하면서', 'Verb'), ('느낀', 'Verb'), ('점', 'Noun'), ('입니다', 'Adjective'), ('.', 'Punctuation')]\n",
      "-73.45321655273438\t[('장바구니', 'Noun'), ('가', 'Josa'), ('너무', 'Adverb'), ('불편합니다', 'Adjective'), ('.', 'Punctuation'), ('비', 'Noun'), ('마트', 'Noun'), ('에서', 'Josa'), ('여러가지', 'Noun'), ('를', 'Josa'), ('담고', 'Verb'), ('스', 'Noun'), ('크롤', 'Noun'), ('올리고', 'Verb'), ('내릴', 'Verb'), ('때', 'Noun'), ('살짝', 'Noun'), ('대각선', 'Noun'), ('으로', 'Josa'), ('움직이면', 'Verb'), ('배달', 'Noun'), ('포장', 'Noun'), ('대', 'Modifier'), ('용량', 'Noun'), ('특', 'Noun'), ('가', 'Josa'), ('등', 'Noun'), ('좌우', 'Noun'), ('로', 'Josa'), ('넘어가', 'Verb'), ('버리고', 'Verb'), ('비', 'Noun'), ('마트', 'Noun'), ('항목', 'Noun'), ('으로', 'Josa'), ('다시', 'Noun'), ('넘어오면', 'Verb'), ('체크', 'Noun'), ('해', 'Verb'), ('둔', 'Verb'), ('상태', 'Noun'), ('가', 'Josa'), ('아닌', 'Adjective'), ('리', 'Noun'), ('로딩', 'Noun'), ('되어', 'Verb'), ('맨', 'Modifier'), ('위로', 'Noun'), ('올라가고', 'Verb'), ('전체', 'Noun'), ('선택', 'Noun'), ('이', 'Josa'), ('됩니다', 'Verb'), ('.', 'Punctuation'), ('너무', 'Adverb'), ('예민해서', 'Adjective'), ('살짝', 'Noun'), ('만', 'Josa'), ('직선', 'Noun'), ('에서', 'Josa'), ('벗어나도', 'Verb'), ('옆', 'Noun'), ('항목', 'Noun'), ('으로', 'Josa'), ('가는데', 'Verb'), ('쓸', 'Verb'), ('때', 'Noun'), ('마다', 'Josa'), ('짜증나더라고요', 'Adjective'), ('.', 'Punctuation'), ('위', 'Noun'), ('에', 'Josa'), ('배달', 'Noun'), ('포장', 'Noun'), ('비', 'Noun'), ('마트', 'Noun'), ('대', 'Modifier'), ('용량', 'Noun'), ('특', 'Noun'), ('가', 'Josa'), ('...', 'Punctuation'), ('등', 'Noun'), ('항목', 'Noun'), ('을', 'Josa'), ('눌러서', 'Verb'), ('선택', 'Noun'), ('해도', 'Verb'), ('될듯', 'Verb'), ('한', 'Determiner'), ('데', 'Noun'), ('화면', 'Noun'), ('을', 'Josa'), ('옆', 'Noun'), ('으로', 'Josa'), ('넘길', 'Verb'), ('필요', 'Noun'), ('까진', 'Josa'), ('없는듯', 'Adjective'), ('합니다', 'Verb'), ('.', 'Punctuation'), ('거의', 'Noun'), ('매일', 'Noun'), ('배민', 'Noun'), ('어플', 'Noun'), ('사용', 'Noun'), ('하면서', 'Verb'), ('느낀', 'Verb'), ('점', 'Noun'), ('입니다', 'Adjective'), ('.', 'Punctuation')]\n"
     ]
    }
   ],
   "source": [
    "from kiwipiepy import Kiwi\n",
    "\n",
    "kiwi = Kiwi()\n",
    "\n",
    "text = \"분명 배달이 완료되었는데 나는 받지 않았어\"\n",
    "\n",
    "for res, score in kiwi.analyze(text, top_n=5):\n",
    "    print(score, result, sep=\"\\t\")"
   ]
  },
  {
   "cell_type": "code",
   "execution_count": 24,
   "id": "1c3fd2b4",
   "metadata": {},
   "outputs": [
    {
     "name": "stdout",
     "output_type": "stream",
     "text": [
      "[Token(form='분명', tag='MAG', start=0, len=2), Token(form='배달', tag='NNG', start=3, len=2), Token(form='이', tag='JKS', start=5, len=1), Token(form='완료', tag='NNG', start=7, len=2), Token(form='되', tag='XSV', start=9, len=1), Token(form='었', tag='EP', start=10, len=1), Token(form='는데', tag='EC', start=11, len=2), Token(form='나', tag='NP', start=14, len=1), Token(form='는', tag='JX', start=15, len=1), Token(form='받', tag='VV-R', start=17, len=1), Token(form='지', tag='EC', start=18, len=1), Token(form='않', tag='VX', start=20, len=1), Token(form='었', tag='EP', start=21, len=1), Token(form='어', tag='EF', start=22, len=1)]\n"
     ]
    }
   ],
   "source": [
    "text = \"분명 배달이 완료되었는데 나는 받지 않았어\"\n",
    "\n",
    "kiwi = Kiwi()\n",
    "result = kiwi.tokenize(text)\n",
    "print(result)"
   ]
  },
  {
   "cell_type": "code",
   "execution_count": 25,
   "id": "62843a03",
   "metadata": {},
   "outputs": [
    {
     "name": "stdout",
     "output_type": "stream",
     "text": [
      "배달 NNG\n",
      "완료 NNG\n",
      "나 NP\n"
     ]
    }
   ],
   "source": [
    "# 명사만 추출\n",
    "for res in result:\n",
    "    if res.tag[0] == \"N\":\n",
    "        print(res.form, res.tag)"
   ]
  }
 ],
 "metadata": {
  "kernelspec": {
   "display_name": "JAVA",
   "language": "python",
   "name": "python3"
  },
  "language_info": {
   "codemirror_mode": {
    "name": "ipython",
    "version": 3
   },
   "file_extension": ".py",
   "mimetype": "text/x-python",
   "name": "python",
   "nbconvert_exporter": "python",
   "pygments_lexer": "ipython3",
   "version": "3.13.5"
  }
 },
 "nbformat": 4,
 "nbformat_minor": 5
}
